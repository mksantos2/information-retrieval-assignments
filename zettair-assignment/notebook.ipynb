{
 "cells": [
  {
   "cell_type": "markdown",
   "source": "# Avaliando Funções de Rankeamento de Documentos\n---------------------------\n\\\n**Moniele Kunrath Santos**\n\n\nInformation Retrieval\n",
   "metadata": {
    "tags": [],
    "cell_id": "00000-fdea75cd-4926-46bb-8837-1328195460ba",
    "deepnote_cell_type": "markdown"
   }
  },
  {
   "cell_type": "markdown",
   "source": "Esse notebook tem o objetivo de apresentar diferenças entre **três tipos de funções** (cosseno, okapi e Dirichlet-smoothing) que fazem rankeamento de documentos no motor de busca *zettair*. A partir desse motor, fiz o rankeamento de **50 consultas** utilizando funções para avaliar o seu desempenho. O presente trabalho está separado em duas partes:\n\n",
   "metadata": {
    "tags": [],
    "cell_id": "00001-bd6dc7ca-f6e6-4d5a-8651-fae7a815e082",
    "deepnote_cell_type": "markdown"
   }
  },
  {
   "cell_type": "markdown",
   "source": "- Na primeira parte, o objetivo é verificar e **comparar as curvas de precisão e revocação** de cada *score*. Portanto, estarei utilizando os arquivos \"eval_cosine.txt\", \"eval_okapi.txt\" e \"eval_default.txt\" para essa tarefa. \n- Já a segunda parte desse notebook, realiza **testes-t pareados bicaudais** entre todos os pares de funções de ranking (i.e. cosseno vs okapi, okapi vs Dirichlet e Dirichlet vs cosseno). Utilizo então os arquivos: \"50_eval_cosine.txt\", \"50_eval_okapi.txt\" e \"50_eval_default.txt\".\n",
   "metadata": {
    "tags": [],
    "cell_id": "00002-0bdc5f76-3080-4a45-b20f-75238275327a",
    "deepnote_cell_type": "markdown"
   }
  },
  {
   "cell_type": "markdown",
   "source": "## Curvas de Revocação por Precisão",
   "metadata": {
    "tags": [],
    "is_collapsed": false,
    "cell_id": "00001-60ae0ca9-8ffb-4c49-a9c7-6a13ebe3bdd9",
    "deepnote_cell_type": "text-cell-h2"
   }
  },
  {
   "cell_type": "markdown",
   "source": "*\"Precision: What fraction of the returned results are relevant to the information need?\"*\n\n*\"Recall: What fraction of the relevant documents in the collection were returned by the system?\"*",
   "metadata": {
    "tags": [],
    "cell_id": "00004-12bb13f6-938e-439f-a5ae-593308d626f2",
    "deepnote_cell_type": "markdown"
   }
  },
  {
   "cell_type": "markdown",
   "source": "### Cosseno",
   "metadata": {
    "tags": [],
    "is_collapsed": false,
    "cell_id": "00002-17a5fcf0-532e-4710-89bd-0f50afb80dc8",
    "deepnote_cell_type": "text-cell-h3"
   }
  },
  {
   "cell_type": "markdown",
   "source": "Separa os dados por \" ; \"",
   "metadata": {
    "tags": [],
    "is_collapsed": false,
    "cell_id": "00001-70558f6f-b72c-413d-bffb-994f949fbad0",
    "deepnote_cell_type": "text-cell-p"
   }
  },
  {
   "cell_type": "code",
   "metadata": {
    "tags": [],
    "cell_id": "00001-96a10719-4e68-4d4b-b0c2-c61e4a352aeb",
    "deepnote_to_be_reexecuted": false,
    "source_hash": "36d9eff2",
    "execution_start": 1631144398546,
    "execution_millis": 0,
    "deepnote_cell_type": "code"
   },
   "source": "inputFile = open('/work/eval_cosine.txt', 'r') \nexportFile = open('/work/new_eval_cosine.txt', 'w')\nfor line in inputFile:\n   new_line = line.replace('\\t', ';')\n   exportFile.write(new_line) \n\ninputFile.close()\nexportFile.close()",
   "outputs": [],
   "execution_count": null
  },
  {
   "cell_type": "markdown",
   "source": "Cria o .csv com as colunas certas a partir do arquivo texto.",
   "metadata": {
    "tags": [],
    "cell_id": "00003-18073bcb-d3f6-4de0-87e4-7144250be703",
    "deepnote_cell_type": "markdown"
   }
  },
  {
   "cell_type": "code",
   "metadata": {
    "tags": [],
    "cell_id": "00002-cd678056-f4d3-45a1-b40d-52197470e084",
    "deepnote_to_be_reexecuted": false,
    "source_hash": "c43ea388",
    "execution_start": 1631144398547,
    "execution_millis": 30,
    "deepnote_cell_type": "code"
   },
   "source": "import csv\n\nwith open('/work/new_eval_cosine.txt', 'r') as in_file:\n    stripped = (line.strip() for line in in_file)\n    lines = (line.split(\";\") for line in stripped if line)\n    with open('eval_cosine.csv', 'w') as out_file:\n        writer = csv.writer(out_file)\n        writer.writerow(('eval', 'all', 'num'))\n        writer.writerows(lines)",
   "outputs": [],
   "execution_count": null
  },
  {
   "cell_type": "code",
   "metadata": {
    "tags": [],
    "cell_id": "00000-216367da-015e-437b-a975-26c0f06ed8d9",
    "deepnote_to_be_reexecuted": false,
    "source_hash": "93f7f1ae",
    "execution_start": 1631144398602,
    "execution_millis": 141,
    "deepnote_cell_type": "code"
   },
   "source": "import pandas as pd\n\ncosine = pd.read_csv (r'/work/eval_cosine.csv')\n\ncosine.head()",
   "outputs": [
    {
     "output_type": "execute_result",
     "execution_count": 3,
     "data": {
      "application/vnd.deepnote.dataframe.v2+json": {
       "row_count": 5,
       "column_count": 3,
       "columns": [
        {
         "name": "eval",
         "dtype": "object",
         "stats": {
          "unique_count": 5,
          "nan_count": 0,
          "categories": [
           {
            "name": "num_q          ",
            "count": 1
           },
           {
            "name": "num_ret        ",
            "count": 1
           },
           {
            "name": "3 others",
            "count": 3
           }
          ]
         }
        },
        {
         "name": "all",
         "dtype": "object",
         "stats": {
          "unique_count": 1,
          "nan_count": 0,
          "categories": [
           {
            "name": "all",
            "count": 5
           }
          ]
         }
        },
        {
         "name": "num",
         "dtype": "float64",
         "stats": {
          "unique_count": 5,
          "nan_count": 0,
          "min": "0.2556",
          "max": "5000.0",
          "histogram": [
           {
            "bin_start": 0.2556,
            "bin_end": 500.23004,
            "count": 3
           },
           {
            "bin_start": 500.23004,
            "bin_end": 1000.2044799999999,
            "count": 1
           },
           {
            "bin_start": 1000.2044799999999,
            "bin_end": 1500.1789199999998,
            "count": 0
           },
           {
            "bin_start": 1500.1789199999998,
            "bin_end": 2000.1533599999998,
            "count": 0
           },
           {
            "bin_start": 2000.1533599999998,
            "bin_end": 2500.1277999999998,
            "count": 0
           },
           {
            "bin_start": 2500.1277999999998,
            "bin_end": 3000.1022399999997,
            "count": 0
           },
           {
            "bin_start": 3000.1022399999997,
            "bin_end": 3500.0766799999997,
            "count": 0
           },
           {
            "bin_start": 3500.0766799999997,
            "bin_end": 4000.0511199999996,
            "count": 0
           },
           {
            "bin_start": 4000.0511199999996,
            "bin_end": 4500.02556,
            "count": 0
           },
           {
            "bin_start": 4500.02556,
            "bin_end": 5000,
            "count": 1
           }
          ]
         }
        },
        {
         "name": "_deepnote_index_column",
         "dtype": "int64"
        }
       ],
       "rows_top": [
        {
         "eval": "num_q          ",
         "all": "all",
         "num": 50,
         "_deepnote_index_column": 0
        },
        {
         "eval": "num_ret        ",
         "all": "all",
         "num": 5000,
         "_deepnote_index_column": 1
        },
        {
         "eval": "num_rel        ",
         "all": "all",
         "num": 688,
         "_deepnote_index_column": 2
        },
        {
         "eval": "num_rel_ret    ",
         "all": "all",
         "num": 430,
         "_deepnote_index_column": 3
        },
        {
         "eval": "map            ",
         "all": "all",
         "num": 0.2556,
         "_deepnote_index_column": 4
        }
       ],
       "rows_bottom": null
      },
      "text/plain": "              eval  all        num\n0  num_q            all    50.0000\n1  num_ret          all  5000.0000\n2  num_rel          all   688.0000\n3  num_rel_ret      all   430.0000\n4  map              all     0.2556",
      "text/html": "<div>\n<style scoped>\n    .dataframe tbody tr th:only-of-type {\n        vertical-align: middle;\n    }\n\n    .dataframe tbody tr th {\n        vertical-align: top;\n    }\n\n    .dataframe thead th {\n        text-align: right;\n    }\n</style>\n<table border=\"1\" class=\"dataframe\">\n  <thead>\n    <tr style=\"text-align: right;\">\n      <th></th>\n      <th>eval</th>\n      <th>all</th>\n      <th>num</th>\n    </tr>\n  </thead>\n  <tbody>\n    <tr>\n      <th>0</th>\n      <td>num_q</td>\n      <td>all</td>\n      <td>50.0000</td>\n    </tr>\n    <tr>\n      <th>1</th>\n      <td>num_ret</td>\n      <td>all</td>\n      <td>5000.0000</td>\n    </tr>\n    <tr>\n      <th>2</th>\n      <td>num_rel</td>\n      <td>all</td>\n      <td>688.0000</td>\n    </tr>\n    <tr>\n      <th>3</th>\n      <td>num_rel_ret</td>\n      <td>all</td>\n      <td>430.0000</td>\n    </tr>\n    <tr>\n      <th>4</th>\n      <td>map</td>\n      <td>all</td>\n      <td>0.2556</td>\n    </tr>\n  </tbody>\n</table>\n</div>"
     },
     "metadata": {}
    }
   ],
   "execution_count": null
  },
  {
   "cell_type": "code",
   "metadata": {
    "tags": [],
    "cell_id": "00004-b2449b6a-28fc-4e52-ac2a-bc299a6af264",
    "deepnote_to_be_reexecuted": false,
    "source_hash": "de964c7b",
    "execution_start": 1631144398756,
    "execution_millis": 26,
    "deepnote_cell_type": "code"
   },
   "source": "recall = [0.0, 0.1, 0.2, 0.3, 0.4, 0.5, 0.6, 0.7, 0.8, 0.9, 1]",
   "outputs": [],
   "execution_count": null
  },
  {
   "cell_type": "code",
   "metadata": {
    "tags": [],
    "cell_id": "00009-631583bf-316c-468c-b8f1-b9002fdd1f02",
    "deepnote_to_be_reexecuted": false,
    "source_hash": "3e1906d",
    "execution_start": 1631144398803,
    "execution_millis": 35,
    "deepnote_cell_type": "code"
   },
   "source": "cosine_precision_inter = [] \n\nfor i in range(9,20):\n    cosine_precision_inter.append(cosine['num'][i])",
   "outputs": [],
   "execution_count": null
  },
  {
   "cell_type": "code",
   "metadata": {
    "tags": [],
    "cell_id": "00012-40e880ba-151e-457e-88af-b4f7bad76aa4",
    "deepnote_to_be_reexecuted": false,
    "source_hash": "4fb39c56",
    "execution_start": 1631144398863,
    "execution_millis": 52,
    "deepnote_cell_type": "code"
   },
   "source": "cosine_precision_inter",
   "outputs": [
    {
     "output_type": "execute_result",
     "execution_count": 6,
     "data": {
      "text/plain": "[0.5623,\n 0.5012,\n 0.4415,\n 0.3813,\n 0.3003,\n 0.251,\n 0.1852,\n 0.1501,\n 0.116,\n 0.0721,\n 0.0626]"
     },
     "metadata": {}
    }
   ],
   "execution_count": null
  },
  {
   "cell_type": "code",
   "metadata": {
    "tags": [],
    "cell_id": "00011-831830cd-26ca-423b-8a19-2374805590a3",
    "deepnote_to_be_reexecuted": false,
    "source_hash": "d70d2349",
    "execution_start": 1631144398945,
    "execution_millis": 5699,
    "deepnote_cell_type": "code"
   },
   "source": "import matplotlib.pyplot as plt\nfrom matplotlib.pyplot import figure\nfigure(figsize=(10, 6), dpi=80)\n    \nplt.plot(recall, cosine_precision_inter, color='red', marker='o')\nplt.title('Cosine: Recall vs Precision')\nplt.xlabel('Recall')\nplt.ylabel('Precision')\nplt.grid(True)\nplt.show()",
   "outputs": [
    {
     "data": {
      "text/plain": "<Figure size 800x480 with 1 Axes>",
      "image/png": "[encoded data removed]"
     },
     "metadata": {
      "needs_background": "light",
      "image/png": {
       "width": 675,
       "height": 427
      }
     },
     "output_type": "display_data"
    }
   ],
   "execution_count": null
  },
  {
   "cell_type": "markdown",
   "source": "### Dirichlet Smoothing",
   "metadata": {
    "tags": [],
    "is_collapsed": false,
    "cell_id": "00015-23e7b7d2-df48-4be7-8ae9-5e3d7ef3935e",
    "deepnote_cell_type": "text-cell-h3"
   }
  },
  {
   "cell_type": "markdown",
   "source": "Separa os dados por \" ; \"",
   "metadata": {
    "tags": [],
    "is_collapsed": false,
    "cell_id": "00016-b82e7e72-48e8-4e4a-991e-d714ed6bc6e6",
    "deepnote_cell_type": "text-cell-p"
   }
  },
  {
   "cell_type": "code",
   "metadata": {
    "tags": [],
    "cell_id": "00017-34d78ec5-1ff9-4eb5-92c1-83dd911e3558",
    "deepnote_to_be_reexecuted": false,
    "source_hash": "8f0128b3",
    "execution_start": 1631144404681,
    "execution_millis": 25,
    "deepnote_cell_type": "code"
   },
   "source": "inputFile = open('/work/eval_default.txt', 'r') \nexportFile = open('/work/new_eval_default.txt', 'w')\nfor line in inputFile:\n   new_line = line.replace('\\t', ';')\n   exportFile.write(new_line) \n\ninputFile.close()\nexportFile.close()",
   "outputs": [],
   "execution_count": null
  },
  {
   "cell_type": "markdown",
   "source": "Cria o .csv com as colunas certas a partir do arquivo texto.",
   "metadata": {
    "tags": [],
    "is_collapsed": false,
    "cell_id": "00018-0a433e81-ca81-44de-ba5b-761b795f1af5",
    "deepnote_cell_type": "text-cell-p"
   }
  },
  {
   "cell_type": "code",
   "metadata": {
    "tags": [],
    "cell_id": "00019-0e092f15-3eea-41e0-a0c4-bafe80417083",
    "deepnote_to_be_reexecuted": false,
    "source_hash": "a4dde56c",
    "execution_start": 1631144404709,
    "execution_millis": 25,
    "deepnote_cell_type": "code"
   },
   "source": "import csv\n\nwith open('/work/new_eval_default.txt', 'r') as in_file:\n    stripped = (line.strip() for line in in_file)\n    lines = (line.split(\";\") for line in stripped if line)\n    with open('eval_default.csv', 'w') as out_file:\n        writer = csv.writer(out_file)\n        writer.writerow(('eval', 'all', 'num'))\n        writer.writerows(lines)",
   "outputs": [],
   "execution_count": null
  },
  {
   "cell_type": "code",
   "metadata": {
    "tags": [],
    "cell_id": "00020-a84dead0-24ef-49f0-a5dd-251c43dd9add",
    "deepnote_to_be_reexecuted": false,
    "source_hash": "1c0ade3",
    "execution_start": 1631144404753,
    "execution_millis": 134,
    "deepnote_cell_type": "code"
   },
   "source": "import pandas as pd\n\ndirichlet = pd.read_csv (r'/work/eval_default.csv')\n\ndirichlet.head()",
   "outputs": [
    {
     "output_type": "execute_result",
     "execution_count": 10,
     "data": {
      "application/vnd.deepnote.dataframe.v2+json": {
       "row_count": 5,
       "column_count": 3,
       "columns": [
        {
         "name": "eval",
         "dtype": "object",
         "stats": {
          "unique_count": 5,
          "nan_count": 0,
          "categories": [
           {
            "name": "num_q          ",
            "count": 1
           },
           {
            "name": "num_ret        ",
            "count": 1
           },
           {
            "name": "3 others",
            "count": 3
           }
          ]
         }
        },
        {
         "name": "all",
         "dtype": "object",
         "stats": {
          "unique_count": 1,
          "nan_count": 0,
          "categories": [
           {
            "name": "all",
            "count": 5
           }
          ]
         }
        },
        {
         "name": "num",
         "dtype": "float64",
         "stats": {
          "unique_count": 5,
          "nan_count": 0,
          "min": "0.3482",
          "max": "5000.0",
          "histogram": [
           {
            "bin_start": 0.3482,
            "bin_end": 500.31338,
            "count": 2
           },
           {
            "bin_start": 500.31338,
            "bin_end": 1000.27856,
            "count": 2
           },
           {
            "bin_start": 1000.27856,
            "bin_end": 1500.24374,
            "count": 0
           },
           {
            "bin_start": 1500.24374,
            "bin_end": 2000.2089199999998,
            "count": 0
           },
           {
            "bin_start": 2000.2089199999998,
            "bin_end": 2500.1740999999997,
            "count": 0
           },
           {
            "bin_start": 2500.1740999999997,
            "bin_end": 3000.13928,
            "count": 0
           },
           {
            "bin_start": 3000.13928,
            "bin_end": 3500.1044599999996,
            "count": 0
           },
           {
            "bin_start": 3500.1044599999996,
            "bin_end": 4000.0696399999997,
            "count": 0
           },
           {
            "bin_start": 4000.0696399999997,
            "bin_end": 4500.03482,
            "count": 0
           },
           {
            "bin_start": 4500.03482,
            "bin_end": 5000,
            "count": 1
           }
          ]
         }
        },
        {
         "name": "_deepnote_index_column",
         "dtype": "int64"
        }
       ],
       "rows_top": [
        {
         "eval": "num_q          ",
         "all": "all",
         "num": 50,
         "_deepnote_index_column": 0
        },
        {
         "eval": "num_ret        ",
         "all": "all",
         "num": 5000,
         "_deepnote_index_column": 1
        },
        {
         "eval": "num_rel        ",
         "all": "all",
         "num": 688,
         "_deepnote_index_column": 2
        },
        {
         "eval": "num_rel_ret    ",
         "all": "all",
         "num": 510,
         "_deepnote_index_column": 3
        },
        {
         "eval": "map            ",
         "all": "all",
         "num": 0.3482,
         "_deepnote_index_column": 4
        }
       ],
       "rows_bottom": null
      },
      "text/plain": "              eval  all        num\n0  num_q            all    50.0000\n1  num_ret          all  5000.0000\n2  num_rel          all   688.0000\n3  num_rel_ret      all   510.0000\n4  map              all     0.3482",
      "text/html": "<div>\n<style scoped>\n    .dataframe tbody tr th:only-of-type {\n        vertical-align: middle;\n    }\n\n    .dataframe tbody tr th {\n        vertical-align: top;\n    }\n\n    .dataframe thead th {\n        text-align: right;\n    }\n</style>\n<table border=\"1\" class=\"dataframe\">\n  <thead>\n    <tr style=\"text-align: right;\">\n      <th></th>\n      <th>eval</th>\n      <th>all</th>\n      <th>num</th>\n    </tr>\n  </thead>\n  <tbody>\n    <tr>\n      <th>0</th>\n      <td>num_q</td>\n      <td>all</td>\n      <td>50.0000</td>\n    </tr>\n    <tr>\n      <th>1</th>\n      <td>num_ret</td>\n      <td>all</td>\n      <td>5000.0000</td>\n    </tr>\n    <tr>\n      <th>2</th>\n      <td>num_rel</td>\n      <td>all</td>\n      <td>688.0000</td>\n    </tr>\n    <tr>\n      <th>3</th>\n      <td>num_rel_ret</td>\n      <td>all</td>\n      <td>510.0000</td>\n    </tr>\n    <tr>\n      <th>4</th>\n      <td>map</td>\n      <td>all</td>\n      <td>0.3482</td>\n    </tr>\n  </tbody>\n</table>\n</div>"
     },
     "metadata": {}
    }
   ],
   "execution_count": null
  },
  {
   "cell_type": "code",
   "metadata": {
    "tags": [],
    "cell_id": "00019-a2439fdc-df40-47e2-96fa-cdc2f9845e12",
    "deepnote_to_be_reexecuted": false,
    "source_hash": "e446bd78",
    "execution_start": 1631144404905,
    "execution_millis": 36,
    "deepnote_cell_type": "code"
   },
   "source": "dirichlet_precision_inter = [] \n\nfor i in range(9,20):\n    dirichlet_precision_inter.append(dirichlet['num'][i])",
   "outputs": [],
   "execution_count": null
  },
  {
   "cell_type": "code",
   "metadata": {
    "tags": [],
    "cell_id": "00020-a386b657-6d61-4b8d-a586-7a554f257a81",
    "deepnote_to_be_reexecuted": false,
    "source_hash": "bcfea512",
    "execution_start": 1631144404963,
    "execution_millis": 35,
    "deepnote_cell_type": "code"
   },
   "source": "dirichlet_precision_inter",
   "outputs": [
    {
     "output_type": "execute_result",
     "execution_count": 12,
     "data": {
      "text/plain": "[0.6571,\n 0.6096,\n 0.5431,\n 0.4824,\n 0.3832,\n 0.3574,\n 0.2967,\n 0.2478,\n 0.1918,\n 0.134,\n 0.131]"
     },
     "metadata": {}
    }
   ],
   "execution_count": null
  },
  {
   "cell_type": "code",
   "metadata": {
    "tags": [],
    "cell_id": "00020-996b368c-4600-4c03-97d0-95946f09f488",
    "deepnote_to_be_reexecuted": false,
    "source_hash": "9b406e49",
    "execution_start": 1631144405027,
    "execution_millis": 1062,
    "deepnote_cell_type": "code"
   },
   "source": "import matplotlib.pyplot as plt\nfrom matplotlib.pyplot import figure\nfigure(figsize=(10, 6), dpi=80)\n    \nplt.plot(recall, dirichlet_precision_inter, color='blue', marker='o')\nplt.title('Dirichlet Smoothing: Recall vs Precision')\nplt.xlabel('Recall')\nplt.ylabel('Precision')\nplt.grid(True)\nplt.show()",
   "outputs": [
    {
     "data": {
      "text/plain": "<Figure size 800x480 with 1 Axes>",
      "image/png": "[encoded data removed]"
     },
     "metadata": {
      "needs_background": "light",
      "image/png": {
       "width": 675,
       "height": 427
      }
     },
     "output_type": "display_data"
    }
   ],
   "execution_count": null
  },
  {
   "cell_type": "markdown",
   "source": "### Okapi",
   "metadata": {
    "tags": [],
    "is_collapsed": false,
    "cell_id": "00021-d0ef9fbb-9a44-4a44-96fd-2050f8256dfe",
    "deepnote_cell_type": "text-cell-h3"
   }
  },
  {
   "cell_type": "markdown",
   "source": "Separa os dados por \" ; \"",
   "metadata": {
    "tags": [],
    "is_collapsed": false,
    "cell_id": "00022-c8f0da59-a7c0-4a58-b066-fa459a488586",
    "deepnote_cell_type": "text-cell-p"
   }
  },
  {
   "cell_type": "code",
   "metadata": {
    "tags": [],
    "cell_id": "00021-4420b603-1843-4cac-865d-5f2eb919ced6",
    "deepnote_to_be_reexecuted": false,
    "source_hash": "f571a3ec",
    "execution_start": 1631144406106,
    "execution_millis": 47,
    "deepnote_cell_type": "code"
   },
   "source": "inputFile = open('/work/eval_okapi.txt', 'r') \nexportFile = open('/work/new_eval_okapi.txt', 'w')\nfor line in inputFile:\n   new_line = line.replace('\\t', ';')\n   exportFile.write(new_line) \n\ninputFile.close()\nexportFile.close()",
   "outputs": [],
   "execution_count": null
  },
  {
   "cell_type": "markdown",
   "source": "Cria o .csv com as colunas certas a partir do arquivo texto.",
   "metadata": {
    "tags": [],
    "is_collapsed": false,
    "cell_id": "00024-0cabc3de-2700-41db-9c33-81294eab053c",
    "deepnote_cell_type": "text-cell-p"
   }
  },
  {
   "cell_type": "code",
   "metadata": {
    "tags": [],
    "cell_id": "00025-a3d66fc0-7c50-45dc-9087-91b6db5d722e",
    "deepnote_to_be_reexecuted": false,
    "source_hash": "eb814e55",
    "execution_start": 1631144406164,
    "execution_millis": 36,
    "deepnote_cell_type": "code"
   },
   "source": "import csv\n\nwith open('/work/new_eval_okapi.txt', 'r') as in_file:\n    stripped = (line.strip() for line in in_file)\n    lines = (line.split(\";\") for line in stripped if line)\n    with open('eval_okapi.csv', 'w') as out_file:\n        writer = csv.writer(out_file)\n        writer.writerow(('eval', 'all', 'num'))\n        writer.writerows(lines)",
   "outputs": [],
   "execution_count": null
  },
  {
   "cell_type": "code",
   "metadata": {
    "tags": [],
    "cell_id": "00026-96e4a5d4-0b58-4955-91ad-eee2637a8451",
    "deepnote_to_be_reexecuted": false,
    "source_hash": "e7ea6b3d",
    "execution_start": 1631144406223,
    "execution_millis": 290,
    "deepnote_cell_type": "code"
   },
   "source": "import pandas as pd\n\nokapi = pd.read_csv (r'/work/eval_okapi.csv')\n\nokapi.head()",
   "outputs": [
    {
     "output_type": "execute_result",
     "execution_count": 16,
     "data": {
      "application/vnd.deepnote.dataframe.v2+json": {
       "row_count": 5,
       "column_count": 3,
       "columns": [
        {
         "name": "eval",
         "dtype": "object",
         "stats": {
          "unique_count": 5,
          "nan_count": 0,
          "categories": [
           {
            "name": "num_q          ",
            "count": 1
           },
           {
            "name": "num_ret        ",
            "count": 1
           },
           {
            "name": "3 others",
            "count": 3
           }
          ]
         }
        },
        {
         "name": "all",
         "dtype": "object",
         "stats": {
          "unique_count": 1,
          "nan_count": 0,
          "categories": [
           {
            "name": "all",
            "count": 5
           }
          ]
         }
        },
        {
         "name": "num",
         "dtype": "float64",
         "stats": {
          "unique_count": 5,
          "nan_count": 0,
          "min": "0.4017",
          "max": "5000.0",
          "histogram": [
           {
            "bin_start": 0.4017,
            "bin_end": 500.36152999999996,
            "count": 2
           },
           {
            "bin_start": 500.36152999999996,
            "bin_end": 1000.3213599999999,
            "count": 2
           },
           {
            "bin_start": 1000.3213599999999,
            "bin_end": 1500.2811899999997,
            "count": 0
           },
           {
            "bin_start": 1500.2811899999997,
            "bin_end": 2000.2410199999997,
            "count": 0
           },
           {
            "bin_start": 2000.2410199999997,
            "bin_end": 2500.2008499999997,
            "count": 0
           },
           {
            "bin_start": 2500.2008499999997,
            "bin_end": 3000.1606799999995,
            "count": 0
           },
           {
            "bin_start": 3000.1606799999995,
            "bin_end": 3500.1205099999997,
            "count": 0
           },
           {
            "bin_start": 3500.1205099999997,
            "bin_end": 4000.0803399999995,
            "count": 0
           },
           {
            "bin_start": 4000.0803399999995,
            "bin_end": 4500.04017,
            "count": 0
           },
           {
            "bin_start": 4500.04017,
            "bin_end": 5000,
            "count": 1
           }
          ]
         }
        },
        {
         "name": "_deepnote_index_column",
         "dtype": "int64"
        }
       ],
       "rows_top": [
        {
         "eval": "num_q          ",
         "all": "all",
         "num": 50,
         "_deepnote_index_column": 0
        },
        {
         "eval": "num_ret        ",
         "all": "all",
         "num": 5000,
         "_deepnote_index_column": 1
        },
        {
         "eval": "num_rel        ",
         "all": "all",
         "num": 688,
         "_deepnote_index_column": 2
        },
        {
         "eval": "num_rel_ret    ",
         "all": "all",
         "num": 564,
         "_deepnote_index_column": 3
        },
        {
         "eval": "map            ",
         "all": "all",
         "num": 0.4017,
         "_deepnote_index_column": 4
        }
       ],
       "rows_bottom": null
      },
      "text/plain": "              eval  all        num\n0  num_q            all    50.0000\n1  num_ret          all  5000.0000\n2  num_rel          all   688.0000\n3  num_rel_ret      all   564.0000\n4  map              all     0.4017",
      "text/html": "<div>\n<style scoped>\n    .dataframe tbody tr th:only-of-type {\n        vertical-align: middle;\n    }\n\n    .dataframe tbody tr th {\n        vertical-align: top;\n    }\n\n    .dataframe thead th {\n        text-align: right;\n    }\n</style>\n<table border=\"1\" class=\"dataframe\">\n  <thead>\n    <tr style=\"text-align: right;\">\n      <th></th>\n      <th>eval</th>\n      <th>all</th>\n      <th>num</th>\n    </tr>\n  </thead>\n  <tbody>\n    <tr>\n      <th>0</th>\n      <td>num_q</td>\n      <td>all</td>\n      <td>50.0000</td>\n    </tr>\n    <tr>\n      <th>1</th>\n      <td>num_ret</td>\n      <td>all</td>\n      <td>5000.0000</td>\n    </tr>\n    <tr>\n      <th>2</th>\n      <td>num_rel</td>\n      <td>all</td>\n      <td>688.0000</td>\n    </tr>\n    <tr>\n      <th>3</th>\n      <td>num_rel_ret</td>\n      <td>all</td>\n      <td>564.0000</td>\n    </tr>\n    <tr>\n      <th>4</th>\n      <td>map</td>\n      <td>all</td>\n      <td>0.4017</td>\n    </tr>\n  </tbody>\n</table>\n</div>"
     },
     "metadata": {}
    }
   ],
   "execution_count": null
  },
  {
   "cell_type": "code",
   "metadata": {
    "tags": [],
    "cell_id": "00027-6472a5a2-6c8f-4467-8895-a2c5fc0cf239",
    "deepnote_to_be_reexecuted": false,
    "source_hash": "44bdbf2a",
    "execution_start": 1631144406438,
    "execution_millis": 1,
    "deepnote_cell_type": "code"
   },
   "source": "okapi_precision_inter = [] \n\nfor i in range(9,20):\n    okapi_precision_inter.append(okapi['num'][i])",
   "outputs": [],
   "execution_count": null
  },
  {
   "cell_type": "code",
   "metadata": {
    "tags": [],
    "cell_id": "00028-69eef3dd-5977-4ca0-ae8b-10274a0fe5f3",
    "deepnote_to_be_reexecuted": false,
    "source_hash": "50a025bb",
    "execution_start": 1631144406501,
    "execution_millis": 1203,
    "deepnote_cell_type": "code"
   },
   "source": "import matplotlib.pyplot as plt\nfrom matplotlib.pyplot import figure\nfigure(figsize=(10, 6), dpi=80)\n    \nplt.plot(recall, okapi_precision_inter, color='green', marker='o')\nplt.title('Okapine: Recall vs Precision')\nplt.xlabel('Recall')\nplt.ylabel('Precision')\nplt.grid(True)\nplt.show()",
   "outputs": [
    {
     "data": {
      "text/plain": "<Figure size 800x480 with 1 Axes>",
      "image/png": "[encoded data removed]"
     },
     "metadata": {
      "needs_background": "light",
      "image/png": {
       "width": 675,
       "height": 427
      }
     },
     "output_type": "display_data"
    }
   ],
   "execution_count": null
  },
  {
   "cell_type": "markdown",
   "source": "### Resultados Obtidos",
   "metadata": {
    "tags": [],
    "is_collapsed": false,
    "cell_id": "00031-fd58308f-82fc-479f-9b5d-b2677746b51d",
    "deepnote_cell_type": "text-cell-h3"
   }
  },
  {
   "cell_type": "code",
   "metadata": {
    "tags": [],
    "cell_id": "00023-ea7f48a4-a0e5-483f-bd77-0da86d4ddfb6",
    "deepnote_to_be_reexecuted": false,
    "source_hash": "4cceec9e",
    "execution_start": 1631144407709,
    "execution_millis": 1272,
    "deepnote_cell_type": "code"
   },
   "source": "import matplotlib.pyplot as plt\nfrom matplotlib.pyplot import figure\nfigure(figsize=(10, 6), dpi=80)\n    \nplt.plot(recall, cosine_precision_inter, color='red', marker='o', label = 'Cosseno')\nplt.legend()\nplt.plot(recall, dirichlet_precision_inter, color='blue', marker='o', label = 'Dirichlet Smoothing')\nplt.legend()\nplt.plot(recall, okapi_precision_inter, color='green', marker='o', label = 'Okapi')\nplt.legend()\nplt.title('Comparação das Funções de Rankeamento')\nplt.xlabel('Revocação')\nplt.ylabel('Precisão')\nplt.grid(True)\nplt.show()",
   "outputs": [
    {
     "data": {
      "text/plain": "<Figure size 800x480 with 1 Axes>",
      "image/png": "[encoded data removed]"
     },
     "metadata": {
      "needs_background": "light",
      "image/png": {
       "width": 675,
       "height": 427
      }
     },
     "output_type": "display_data"
    }
   ],
   "execution_count": null
  },
  {
   "cell_type": "markdown",
   "source": "## Testes-t Bicaudais",
   "metadata": {
    "tags": [],
    "is_collapsed": false,
    "cell_id": "00015-953401f8-97a1-4384-aa1f-94ae902cf9d0",
    "deepnote_cell_type": "text-cell-h2"
   }
  },
  {
   "cell_type": "markdown",
   "source": "*Carregando Resultados da Função Okapi*",
   "metadata": {
    "tags": [],
    "cell_id": "00034-3ad62121-542d-458e-9bf5-da4865a09bf0",
    "deepnote_cell_type": "markdown"
   }
  },
  {
   "cell_type": "code",
   "metadata": {
    "tags": [],
    "cell_id": "00034-8f3e3688-1a94-4a4e-80d7-713149051738",
    "deepnote_to_be_reexecuted": false,
    "source_hash": "a14890",
    "execution_start": 1631144408991,
    "execution_millis": 154,
    "deepnote_cell_type": "code"
   },
   "source": "inputFile = open('/work/partial_eval/50_eval_okapi.txt', 'r') \nexportFile = open('/work/partial_eval/new_eval_okapi.txt', 'w')\nfor line in inputFile:\n   new_line = line.replace('\\t', ';')\n   exportFile.write(new_line) \n\ninputFile.close()\nexportFile.close()\n\nimport csv\n\nwith open('/work/partial_eval/new_eval_okapi.txt', 'r') as in_file:\n    stripped = (line.strip() for line in in_file)\n    lines = (line.split(\";\") for line in stripped if line)\n    with open('/work/partial_eval/50_eval_okapi.csv', 'w') as out_file:\n        writer = csv.writer(out_file)\n        writer.writerow(('eval', 'query', 'num'))\n        writer.writerows(lines)\n\n\nimport pandas as pd\n\nokapi_50 = pd.read_csv (r'/work/partial_eval/50_eval_okapi.csv')\n\nokapi_50.head()",
   "outputs": [
    {
     "output_type": "execute_result",
     "execution_count": 20,
     "data": {
      "application/vnd.deepnote.dataframe.v2+json": {
       "row_count": 5,
       "column_count": 3,
       "columns": [
        {
         "name": "eval",
         "dtype": "object",
         "stats": {
          "unique_count": 5,
          "nan_count": 0,
          "categories": [
           {
            "name": "num_ret        ",
            "count": 1
           },
           {
            "name": "num_rel        ",
            "count": 1
           },
           {
            "name": "3 others",
            "count": 3
           }
          ]
         }
        },
        {
         "name": "query",
         "dtype": "object",
         "stats": {
          "unique_count": 1,
          "nan_count": 0,
          "categories": [
           {
            "name": "251",
            "count": 5
           }
          ]
         }
        },
        {
         "name": "num",
         "dtype": "float64",
         "stats": {
          "unique_count": 5,
          "nan_count": 0,
          "min": "0.6097",
          "max": "100.0",
          "histogram": [
           {
            "bin_start": 0.6097,
            "bin_end": 10.548729999999999,
            "count": 2
           },
           {
            "bin_start": 10.548729999999999,
            "bin_end": 20.487759999999998,
            "count": 0
           },
           {
            "bin_start": 20.487759999999998,
            "bin_end": 30.426789999999997,
            "count": 1
           },
           {
            "bin_start": 30.426789999999997,
            "bin_end": 40.36581999999999,
            "count": 1
           },
           {
            "bin_start": 40.36581999999999,
            "bin_end": 50.304849999999995,
            "count": 0
           },
           {
            "bin_start": 50.304849999999995,
            "bin_end": 60.24387999999999,
            "count": 0
           },
           {
            "bin_start": 60.24387999999999,
            "bin_end": 70.18290999999999,
            "count": 0
           },
           {
            "bin_start": 70.18290999999999,
            "bin_end": 80.12194,
            "count": 0
           },
           {
            "bin_start": 80.12194,
            "bin_end": 90.06097,
            "count": 0
           },
           {
            "bin_start": 90.06097,
            "bin_end": 100,
            "count": 1
           }
          ]
         }
        },
        {
         "name": "_deepnote_index_column",
         "dtype": "int64"
        }
       ],
       "rows_top": [
        {
         "eval": "num_ret        ",
         "query": "251",
         "num": 100,
         "_deepnote_index_column": 0
        },
        {
         "eval": "num_rel        ",
         "query": "251",
         "num": 35,
         "_deepnote_index_column": 1
        },
        {
         "eval": "num_rel_ret    ",
         "query": "251",
         "num": 26,
         "_deepnote_index_column": 2
        },
        {
         "eval": "map            ",
         "query": "251",
         "num": 0.6097,
         "_deepnote_index_column": 3
        },
        {
         "eval": "R-prec         ",
         "query": "251",
         "num": 0.6286,
         "_deepnote_index_column": 4
        }
       ],
       "rows_bottom": null
      },
      "text/plain": "              eval query       num\n0  num_ret           251  100.0000\n1  num_rel           251   35.0000\n2  num_rel_ret       251   26.0000\n3  map               251    0.6097\n4  R-prec            251    0.6286",
      "text/html": "<div>\n<style scoped>\n    .dataframe tbody tr th:only-of-type {\n        vertical-align: middle;\n    }\n\n    .dataframe tbody tr th {\n        vertical-align: top;\n    }\n\n    .dataframe thead th {\n        text-align: right;\n    }\n</style>\n<table border=\"1\" class=\"dataframe\">\n  <thead>\n    <tr style=\"text-align: right;\">\n      <th></th>\n      <th>eval</th>\n      <th>query</th>\n      <th>num</th>\n    </tr>\n  </thead>\n  <tbody>\n    <tr>\n      <th>0</th>\n      <td>num_ret</td>\n      <td>251</td>\n      <td>100.0000</td>\n    </tr>\n    <tr>\n      <th>1</th>\n      <td>num_rel</td>\n      <td>251</td>\n      <td>35.0000</td>\n    </tr>\n    <tr>\n      <th>2</th>\n      <td>num_rel_ret</td>\n      <td>251</td>\n      <td>26.0000</td>\n    </tr>\n    <tr>\n      <th>3</th>\n      <td>map</td>\n      <td>251</td>\n      <td>0.6097</td>\n    </tr>\n    <tr>\n      <th>4</th>\n      <td>R-prec</td>\n      <td>251</td>\n      <td>0.6286</td>\n    </tr>\n  </tbody>\n</table>\n</div>"
     },
     "metadata": {}
    }
   ],
   "execution_count": null
  },
  {
   "cell_type": "code",
   "metadata": {
    "tags": [],
    "cell_id": "00036-ecbbd4e1-5bb4-411a-9df0-c1d4b3179ff0",
    "deepnote_to_be_reexecuted": false,
    "source_hash": "417a7b9e",
    "execution_start": 1631144409155,
    "execution_millis": 34,
    "deepnote_cell_type": "code"
   },
   "source": "okapi_map_list = []",
   "outputs": [],
   "execution_count": null
  },
  {
   "cell_type": "code",
   "metadata": {
    "tags": [],
    "cell_id": "00037-2c10c6b8-deb4-48a5-9c1a-418492e1a7dd",
    "deepnote_to_be_reexecuted": false,
    "source_hash": "1617bebd",
    "execution_start": 1631144409192,
    "execution_millis": 561,
    "deepnote_cell_type": "code"
   },
   "source": "for i, row in okapi_50.iterrows():\n    if (row['eval']) == \"map            \":\n        okapi_map_list.append(row['num'])\n    ",
   "outputs": [],
   "execution_count": null
  },
  {
   "cell_type": "code",
   "metadata": {
    "tags": [],
    "cell_id": "00038-1495f644-5d62-4d45-b111-920f1318deb3",
    "deepnote_to_be_reexecuted": false,
    "source_hash": "33ceb7a0",
    "execution_start": 1631144409769,
    "execution_millis": 16,
    "deepnote_cell_type": "code"
   },
   "source": "mean_okapi_map = okapi_map_list.pop()",
   "outputs": [],
   "execution_count": null
  },
  {
   "cell_type": "code",
   "metadata": {
    "tags": [],
    "cell_id": "00039-e88deb61-625e-4957-b74c-2ba922a53e29",
    "deepnote_to_be_reexecuted": false,
    "source_hash": "8f45c1e2",
    "execution_start": 1631144409791,
    "execution_millis": 30,
    "deepnote_cell_type": "code"
   },
   "source": "len(okapi_map_list)",
   "outputs": [
    {
     "output_type": "execute_result",
     "execution_count": 24,
     "data": {
      "text/plain": "50"
     },
     "metadata": {}
    }
   ],
   "execution_count": null
  },
  {
   "cell_type": "markdown",
   "source": "*Carregando Resultados da Função Cosseno*",
   "metadata": {
    "tags": [],
    "cell_id": "00040-1fcc381d-b3d5-47fe-8905-8ccf240a3d62",
    "deepnote_cell_type": "markdown"
   }
  },
  {
   "cell_type": "code",
   "metadata": {
    "tags": [],
    "cell_id": "00040-8c7f0137-27ef-4cf1-940f-ba233b35515c",
    "deepnote_to_be_reexecuted": false,
    "source_hash": "2d6fce11",
    "execution_start": 1631144409835,
    "execution_millis": 113,
    "deepnote_cell_type": "code"
   },
   "source": "inputFile = open('/work/partial_eval/50_eval_cosine.txt', 'r') \nexportFile = open('/work/partial_eval/new_eval_cosine.txt', 'w')\nfor line in inputFile:\n   new_line = line.replace('\\t', ';')\n   exportFile.write(new_line) \n\ninputFile.close()\nexportFile.close()\n\nimport csv\n\nwith open('/work/partial_eval/new_eval_cosine.txt', 'r') as in_file:\n    stripped = (line.strip() for line in in_file)\n    lines = (line.split(\";\") for line in stripped if line)\n    with open('/work/partial_eval/50_eval_cosine.csv', 'w') as out_file:\n        writer = csv.writer(out_file)\n        writer.writerow(('eval', 'query', 'num'))\n        writer.writerows(lines)\n\n\nimport pandas as pd\n\ncosine_50 = pd.read_csv (r'/work/partial_eval/50_eval_cosine.csv')\n\ncosine_50.head()",
   "outputs": [
    {
     "output_type": "execute_result",
     "execution_count": 25,
     "data": {
      "application/vnd.deepnote.dataframe.v2+json": {
       "row_count": 5,
       "column_count": 3,
       "columns": [
        {
         "name": "eval",
         "dtype": "object",
         "stats": {
          "unique_count": 5,
          "nan_count": 0,
          "categories": [
           {
            "name": "num_ret        ",
            "count": 1
           },
           {
            "name": "num_rel        ",
            "count": 1
           },
           {
            "name": "3 others",
            "count": 3
           }
          ]
         }
        },
        {
         "name": "query",
         "dtype": "object",
         "stats": {
          "unique_count": 1,
          "nan_count": 0,
          "categories": [
           {
            "name": "251",
            "count": 5
           }
          ]
         }
        },
        {
         "name": "num",
         "dtype": "float64",
         "stats": {
          "unique_count": 5,
          "nan_count": 0,
          "min": "0.4714",
          "max": "100.0",
          "histogram": [
           {
            "bin_start": 0.4714,
            "bin_end": 10.424259999999999,
            "count": 2
           },
           {
            "bin_start": 10.424259999999999,
            "bin_end": 20.377119999999998,
            "count": 0
           },
           {
            "bin_start": 20.377119999999998,
            "bin_end": 30.329979999999995,
            "count": 1
           },
           {
            "bin_start": 30.329979999999995,
            "bin_end": 40.28284,
            "count": 1
           },
           {
            "bin_start": 40.28284,
            "bin_end": 50.2357,
            "count": 0
           },
           {
            "bin_start": 50.2357,
            "bin_end": 60.188559999999995,
            "count": 0
           },
           {
            "bin_start": 60.188559999999995,
            "bin_end": 70.14142,
            "count": 0
           },
           {
            "bin_start": 70.14142,
            "bin_end": 80.09428,
            "count": 0
           },
           {
            "bin_start": 80.09428,
            "bin_end": 90.04714,
            "count": 0
           },
           {
            "bin_start": 90.04714,
            "bin_end": 100,
            "count": 1
           }
          ]
         }
        },
        {
         "name": "_deepnote_index_column",
         "dtype": "int64"
        }
       ],
       "rows_top": [
        {
         "eval": "num_ret        ",
         "query": "251",
         "num": 100,
         "_deepnote_index_column": 0
        },
        {
         "eval": "num_rel        ",
         "query": "251",
         "num": 35,
         "_deepnote_index_column": 1
        },
        {
         "eval": "num_rel_ret    ",
         "query": "251",
         "num": 21,
         "_deepnote_index_column": 2
        },
        {
         "eval": "map            ",
         "query": "251",
         "num": 0.4714,
         "_deepnote_index_column": 3
        },
        {
         "eval": "R-prec         ",
         "query": "251",
         "num": 0.4857,
         "_deepnote_index_column": 4
        }
       ],
       "rows_bottom": null
      },
      "text/plain": "              eval query       num\n0  num_ret           251  100.0000\n1  num_rel           251   35.0000\n2  num_rel_ret       251   21.0000\n3  map               251    0.4714\n4  R-prec            251    0.4857",
      "text/html": "<div>\n<style scoped>\n    .dataframe tbody tr th:only-of-type {\n        vertical-align: middle;\n    }\n\n    .dataframe tbody tr th {\n        vertical-align: top;\n    }\n\n    .dataframe thead th {\n        text-align: right;\n    }\n</style>\n<table border=\"1\" class=\"dataframe\">\n  <thead>\n    <tr style=\"text-align: right;\">\n      <th></th>\n      <th>eval</th>\n      <th>query</th>\n      <th>num</th>\n    </tr>\n  </thead>\n  <tbody>\n    <tr>\n      <th>0</th>\n      <td>num_ret</td>\n      <td>251</td>\n      <td>100.0000</td>\n    </tr>\n    <tr>\n      <th>1</th>\n      <td>num_rel</td>\n      <td>251</td>\n      <td>35.0000</td>\n    </tr>\n    <tr>\n      <th>2</th>\n      <td>num_rel_ret</td>\n      <td>251</td>\n      <td>21.0000</td>\n    </tr>\n    <tr>\n      <th>3</th>\n      <td>map</td>\n      <td>251</td>\n      <td>0.4714</td>\n    </tr>\n    <tr>\n      <th>4</th>\n      <td>R-prec</td>\n      <td>251</td>\n      <td>0.4857</td>\n    </tr>\n  </tbody>\n</table>\n</div>"
     },
     "metadata": {}
    }
   ],
   "execution_count": null
  },
  {
   "cell_type": "code",
   "metadata": {
    "tags": [],
    "cell_id": "00042-1bf9443a-06f2-4be7-8afb-766d68564754",
    "deepnote_to_be_reexecuted": false,
    "source_hash": "b4007f83",
    "execution_start": 1631144409953,
    "execution_millis": 20,
    "deepnote_cell_type": "code"
   },
   "source": "cosine_map_list = []",
   "outputs": [],
   "execution_count": null
  },
  {
   "cell_type": "code",
   "metadata": {
    "tags": [],
    "cell_id": "00043-d737053e-6971-468b-a03b-63b81c6d5df7",
    "deepnote_to_be_reexecuted": false,
    "source_hash": "6b6692b2",
    "execution_start": 1631144409987,
    "execution_millis": 605,
    "deepnote_cell_type": "code"
   },
   "source": "for i, row in cosine_50.iterrows():\n    if (row['eval']) == \"map            \":\n        cosine_map_list.append(row['num'])\n\nmean_cosine_map = cosine_map_list.pop()\nlen(cosine_map_list)",
   "outputs": [
    {
     "output_type": "execute_result",
     "execution_count": 27,
     "data": {
      "text/plain": "50"
     },
     "metadata": {}
    }
   ],
   "execution_count": null
  },
  {
   "cell_type": "markdown",
   "source": "*Carregando Resultados da Função Dirichlet*",
   "metadata": {
    "tags": [],
    "cell_id": "00045-51749c3f-9f55-4112-bdb0-8c5b0fef4641",
    "deepnote_cell_type": "markdown"
   }
  },
  {
   "cell_type": "code",
   "metadata": {
    "tags": [],
    "cell_id": "00044-72270f35-5398-4681-b0e3-bee659f67747",
    "deepnote_to_be_reexecuted": false,
    "source_hash": "d863d54a",
    "execution_start": 1631144410603,
    "execution_millis": 150,
    "deepnote_cell_type": "code"
   },
   "source": "inputFile = open('/work/partial_eval/50_eval_default.txt', 'r') \nexportFile = open('/work/partial_eval/new_eval_default.txt', 'w')\nfor line in inputFile:\n   new_line = line.replace('\\t', ';')\n   exportFile.write(new_line) \n\ninputFile.close()\nexportFile.close()\n\nimport csv\n\nwith open('/work/partial_eval/new_eval_default.txt', 'r') as in_file:\n    stripped = (line.strip() for line in in_file)\n    lines = (line.split(\";\") for line in stripped if line)\n    with open('/work/partial_eval/50_eval_default.csv', 'w') as out_file:\n        writer = csv.writer(out_file)\n        writer.writerow(('eval', 'query', 'num'))\n        writer.writerows(lines)\n\n\nimport pandas as pd\n\ndirichlet_50 = pd.read_csv (r'/work/partial_eval/50_eval_default.csv')\n\ndirichlet_50.head()",
   "outputs": [
    {
     "output_type": "execute_result",
     "execution_count": 28,
     "data": {
      "application/vnd.deepnote.dataframe.v2+json": {
       "row_count": 5,
       "column_count": 3,
       "columns": [
        {
         "name": "eval",
         "dtype": "object",
         "stats": {
          "unique_count": 5,
          "nan_count": 0,
          "categories": [
           {
            "name": "num_ret        ",
            "count": 1
           },
           {
            "name": "num_rel        ",
            "count": 1
           },
           {
            "name": "3 others",
            "count": 3
           }
          ]
         }
        },
        {
         "name": "query",
         "dtype": "object",
         "stats": {
          "unique_count": 1,
          "nan_count": 0,
          "categories": [
           {
            "name": "251",
            "count": 5
           }
          ]
         }
        },
        {
         "name": "num",
         "dtype": "float64",
         "stats": {
          "unique_count": 5,
          "nan_count": 0,
          "min": "0.6",
          "max": "100.0",
          "histogram": [
           {
            "bin_start": 0.6,
            "bin_end": 10.540000000000001,
            "count": 2
           },
           {
            "bin_start": 10.540000000000001,
            "bin_end": 20.480000000000004,
            "count": 0
           },
           {
            "bin_start": 20.480000000000004,
            "bin_end": 30.420000000000005,
            "count": 1
           },
           {
            "bin_start": 30.420000000000005,
            "bin_end": 40.36000000000001,
            "count": 1
           },
           {
            "bin_start": 40.36000000000001,
            "bin_end": 50.300000000000004,
            "count": 0
           },
           {
            "bin_start": 50.300000000000004,
            "bin_end": 60.24000000000001,
            "count": 0
           },
           {
            "bin_start": 60.24000000000001,
            "bin_end": 70.18,
            "count": 0
           },
           {
            "bin_start": 70.18,
            "bin_end": 80.12,
            "count": 0
           },
           {
            "bin_start": 80.12,
            "bin_end": 90.06,
            "count": 0
           },
           {
            "bin_start": 90.06,
            "bin_end": 100,
            "count": 1
           }
          ]
         }
        },
        {
         "name": "_deepnote_index_column",
         "dtype": "int64"
        }
       ],
       "rows_top": [
        {
         "eval": "num_ret        ",
         "query": "251",
         "num": 100,
         "_deepnote_index_column": 0
        },
        {
         "eval": "num_rel        ",
         "query": "251",
         "num": 35,
         "_deepnote_index_column": 1
        },
        {
         "eval": "num_rel_ret    ",
         "query": "251",
         "num": 26,
         "_deepnote_index_column": 2
        },
        {
         "eval": "map            ",
         "query": "251",
         "num": 0.625,
         "_deepnote_index_column": 3
        },
        {
         "eval": "R-prec         ",
         "query": "251",
         "num": 0.6,
         "_deepnote_index_column": 4
        }
       ],
       "rows_bottom": null
      },
      "text/plain": "              eval query      num\n0  num_ret           251  100.000\n1  num_rel           251   35.000\n2  num_rel_ret       251   26.000\n3  map               251    0.625\n4  R-prec            251    0.600",
      "text/html": "<div>\n<style scoped>\n    .dataframe tbody tr th:only-of-type {\n        vertical-align: middle;\n    }\n\n    .dataframe tbody tr th {\n        vertical-align: top;\n    }\n\n    .dataframe thead th {\n        text-align: right;\n    }\n</style>\n<table border=\"1\" class=\"dataframe\">\n  <thead>\n    <tr style=\"text-align: right;\">\n      <th></th>\n      <th>eval</th>\n      <th>query</th>\n      <th>num</th>\n    </tr>\n  </thead>\n  <tbody>\n    <tr>\n      <th>0</th>\n      <td>num_ret</td>\n      <td>251</td>\n      <td>100.000</td>\n    </tr>\n    <tr>\n      <th>1</th>\n      <td>num_rel</td>\n      <td>251</td>\n      <td>35.000</td>\n    </tr>\n    <tr>\n      <th>2</th>\n      <td>num_rel_ret</td>\n      <td>251</td>\n      <td>26.000</td>\n    </tr>\n    <tr>\n      <th>3</th>\n      <td>map</td>\n      <td>251</td>\n      <td>0.625</td>\n    </tr>\n    <tr>\n      <th>4</th>\n      <td>R-prec</td>\n      <td>251</td>\n      <td>0.600</td>\n    </tr>\n  </tbody>\n</table>\n</div>"
     },
     "metadata": {}
    }
   ],
   "execution_count": null
  },
  {
   "cell_type": "code",
   "metadata": {
    "tags": [],
    "cell_id": "00046-6b615629-d24b-46cc-8025-ae9a32876534",
    "deepnote_to_be_reexecuted": false,
    "source_hash": "a7bc7355",
    "execution_start": 1631144410765,
    "execution_millis": 588,
    "deepnote_cell_type": "code"
   },
   "source": "dirichlet_map_list = []\n\nfor i, row in dirichlet_50.iterrows():\n    if (row['eval']) == \"map            \":\n        dirichlet_map_list.append(row['num'])\n\nmean_dirichlet_map = dirichlet_map_list.pop()\nlen(dirichlet_map_list)",
   "outputs": [],
   "execution_count": null
  },
  {
   "cell_type": "markdown",
   "source": "### Teste-t: Okapi vs Cosseno",
   "metadata": {
    "tags": [],
    "is_collapsed": false,
    "cell_id": "00044-3e506c80-ba3c-4d93-8d57-c34a6a5cb966",
    "deepnote_cell_type": "text-cell-h3"
   }
  },
  {
   "cell_type": "code",
   "metadata": {
    "tags": [],
    "cell_id": "00013-63b6e502-9b30-4dd4-a2f8-b44a34050456",
    "deepnote_to_be_reexecuted": false,
    "source_hash": "f31ae328",
    "execution_start": 1631144411361,
    "execution_millis": 1556,
    "deepnote_cell_type": "code"
   },
   "source": "from scipy import stats",
   "outputs": [],
   "execution_count": null
  },
  {
   "cell_type": "code",
   "metadata": {
    "tags": [],
    "cell_id": "00045-30b17424-4dfd-4d9d-8470-162197cffbfd",
    "deepnote_to_be_reexecuted": false,
    "source_hash": "5e35daa0",
    "execution_start": 1631144412924,
    "execution_millis": 21,
    "deepnote_cell_type": "code"
   },
   "source": "stats.ttest_ind(cosine_map_list, okapi_map_list)",
   "outputs": [
    {
     "output_type": "execute_result",
     "execution_count": 31,
     "data": {
      "text/plain": "Ttest_indResult(statistic=-2.8726215977746565, pvalue=0.004990620286410119)"
     },
     "metadata": {}
    }
   ],
   "execution_count": null
  },
  {
   "cell_type": "code",
   "metadata": {
    "tags": [],
    "cell_id": "00051-84048d69-bc07-4911-b0ef-54d8c3881635",
    "deepnote_to_be_reexecuted": false,
    "source_hash": "7d7e3f7e",
    "execution_start": 1631144499318,
    "execution_millis": 5,
    "deepnote_cell_type": "code"
   },
   "source": "print(\"MAP do cosseno: \", mean_cosine_map)\nprint(\"MAP do okapi: \", mean_okapi_map)",
   "outputs": [
    {
     "name": "stdout",
     "text": "MAP do cosseno:  0.2556\nMAP do okapi:  0.4017\n",
     "output_type": "stream"
    }
   ],
   "execution_count": null
  },
  {
   "cell_type": "markdown",
   "source": "    p =  0.005 < 0.05\n\nPortanto, existe uma diferença real entre as distribuições. E como o MAP do okapi é maior que o do cosseno, O sistema que utiliza a função okapi é significativamente melhor do que o sistema que utiliza a função cosseno.",
   "metadata": {
    "tags": [],
    "cell_id": "00051-99c80b73-a47b-4e7e-bd90-83cba8e31033",
    "deepnote_cell_type": "markdown"
   }
  },
  {
   "cell_type": "markdown",
   "source": "### Teste-t: Okapi vs Dirichlet",
   "metadata": {
    "tags": [],
    "is_collapsed": false,
    "cell_id": "00050-3d4d5ede-9c40-4d40-bf9a-c518e07cbdd9",
    "deepnote_cell_type": "text-cell-h3"
   }
  },
  {
   "cell_type": "code",
   "metadata": {
    "tags": [],
    "cell_id": "00047-ec67dddf-cb24-41ad-b63a-5ce30b9d9019",
    "deepnote_to_be_reexecuted": false,
    "source_hash": "482ccab7",
    "execution_start": 1631144412954,
    "execution_millis": 31,
    "deepnote_cell_type": "code"
   },
   "source": "stats.ttest_ind(dirichlet_map_list, okapi_map_list)",
   "outputs": [
    {
     "output_type": "execute_result",
     "execution_count": 32,
     "data": {
      "text/plain": "Ttest_indResult(statistic=-0.9986794265844451, pvalue=0.3204095407645079)"
     },
     "metadata": {}
    }
   ],
   "execution_count": null
  },
  {
   "cell_type": "markdown",
   "source": "    p =  0.3204 > 0.05\n\nPortanto, existe não existe uma diferença real entre as distribuições.",
   "metadata": {
    "tags": [],
    "cell_id": "00054-2a74018e-c750-48fe-9020-7996bb9cfcdc",
    "deepnote_cell_type": "markdown"
   }
  },
  {
   "cell_type": "markdown",
   "source": "### Teste-t: Cosseno vs Dirichlet",
   "metadata": {
    "tags": [],
    "is_collapsed": false,
    "cell_id": "00052-4c822337-d5fe-4c61-b52f-86d97ae56400",
    "deepnote_cell_type": "text-cell-h3"
   }
  },
  {
   "cell_type": "code",
   "metadata": {
    "tags": [],
    "cell_id": "00052-1d21d3a3-2159-4ce2-aab4-7d475849df5a",
    "deepnote_to_be_reexecuted": false,
    "source_hash": "20d6f67a",
    "execution_start": 1631144412989,
    "execution_millis": 25,
    "deepnote_cell_type": "code"
   },
   "source": "stats.ttest_ind(dirichlet_map_list, cosine_map_list)",
   "outputs": [
    {
     "output_type": "execute_result",
     "execution_count": 33,
     "data": {
      "text/plain": "Ttest_indResult(statistic=1.7622854367063594, pvalue=0.08113903119227246)"
     },
     "metadata": {}
    }
   ],
   "execution_count": null
  },
  {
   "cell_type": "markdown",
   "source": "    p =  0.0811 > 0.05\n\nPortanto, existe não existe uma diferença real entre as distribuições.",
   "metadata": {
    "tags": [],
    "cell_id": "00057-06f71707-2fd8-449f-9f34-a0cd6b0aefae",
    "deepnote_cell_type": "markdown"
   }
  },
  {
   "cell_type": "markdown",
   "source": "## Considerações Finais",
   "metadata": {
    "tags": [],
    "is_collapsed": false,
    "cell_id": "00054-88b247d4-5d00-4a13-b9c3-487cc3aececa",
    "deepnote_cell_type": "text-cell-h2"
   }
  },
  {
   "cell_type": "markdown",
   "source": "Conclui-se, através dos experimentos apresentados, que as funções okapi e dirichlet tem um desempenho bem parecido, como se observa no gráfico da revocação por precisão, e além disso mostram ter distribuições t idênticas. Podemos inferir também que a função com pior desempenho, nesse estudo de caso, foi a função cosseno.",
   "metadata": {
    "tags": [],
    "cell_id": "00056-969cd79c-04c2-43aa-8f31-b458b3aaf471",
    "deepnote_cell_type": "markdown"
   }
  },
  {
   "cell_type": "markdown",
   "source": "<a style='text-decoration:none;line-height:16px;display:flex;color:#5B5B62;padding:10px;justify-content:end;' href='https://deepnote.com?utm_source=created-in-deepnote-cell&projectId=cc6e6f36-f551-48be-8c78-aee7ee3b63ab' target=\"_blank\">\n<img alt='Created in deepnote.com' style='display:inline;max-height:16px;margin:0px;margin-right:7.5px;' src='data:image/svg+xml;base64,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' > </img>\nCreated in <span style='font-weight:600;margin-left:4px;'>Deepnote</span></a>",
   "metadata": {
    "tags": [],
    "created_in_deepnote_cell": true,
    "deepnote_cell_type": "markdown"
   }
  }
 ],
 "nbformat": 4,
 "nbformat_minor": 2,
 "metadata": {
  "orig_nbformat": 2,
  "deepnote": {
   "is_reactive": false
  },
  "deepnote_notebook_id": "f60d8c56-0290-48bb-8636-c9c074c69f8a",
  "deepnote_execution_queue": []
 }
}