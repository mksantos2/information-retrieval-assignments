{
  "nbformat": 4,
  "nbformat_minor": 0,
  "metadata": {
    "colab": {
      "name": "(Avaliação) IR - Trabalho 1: PyTerrier",
      "provenance": [],
      "collapsed_sections": [],
      "include_colab_link": true
    },
    "kernelspec": {
      "name": "python3",
      "display_name": "Python 3"
    }
  },
  "cells": [
    {
      "cell_type": "markdown",
      "metadata": {
        "id": "view-in-github",
        "colab_type": "text"
      },
      "source": [
        "<a href=\"https://colab.research.google.com/github/mksantos2/information-retrieval-assignments/blob/main/(Avalia%C3%A7%C3%A3o)_IR_Trabalho_1_PyTerrier.ipynb\" target=\"_parent\"><img src=\"https://colab.research.google.com/assets/colab-badge.svg\" alt=\"Open In Colab\"/></a>"
      ]
    },
    {
      "cell_type": "markdown",
      "metadata": {
        "id": "0Q_vhpYzQbD1"
      },
      "source": [
        "#Avaliação de um Sistema de Recuperação de Informações: *PyTerrier*\n",
        "-------------------------------------\n",
        "*Notebook desenvolvido por Lana e Moniele.*"
      ]
    },
    {
      "cell_type": "markdown",
      "metadata": {
        "id": "AcYMd7S-mfra"
      },
      "source": [
        "#### Sobre o PyTerrier \n",
        "\n",
        "*Esse framework propõe diferentes pipelines utilizando Classes Python para tarefas de Recuperação de Informações, como recuperação, reclassificação do Learn-to-Rank, reescrita da consulta, indexação, extração dos recursos subjacentes e reclassificação neural. Um sistema de recuperação de informações end-to-end pode ser facilmente construído com esses elementos de pipeline pré-estabelecidos. Além disso, uma arquitetura IR construída pode ser escalada ou estendida no futuro de acordo com os requisitos.*\n",
        "\n",
        "Documentação: https://pyterrier.readthedocs.io/en/latest/\n",
        "\n",
        "Artigo publicado: https://arxiv.org/abs/2007.14271 \n"
      ]
    },
    {
      "cell_type": "markdown",
      "metadata": {
        "id": "_Gy1QYyR4gYQ"
      },
      "source": [
        "A arquitetura de recuperação do PyTerrier é baseada em três conceitos:\n",
        "\n",
        "- Pandas Dataframes com tipos predefinidos (cada um com um conjunto mínimo de atributos conhecidos).\n",
        "- a transformação desses dataframes por operações padrão de recuperação de informações, definidas como transformers.\n",
        "- a combinação de transformers, que apoiadas pelos seus operadores definidos, podem fornecer pipelines complexos de recuperação.\n",
        "\n",
        "Em essência, um transformer PyTerrier é uma classe com um método transform(), que recebe como entrada um dataframe e o altera antes de retorná-lo.\n",
        "\n",
        "\n"
      ]
    },
    {
      "cell_type": "markdown",
      "metadata": {
        "id": "Jl0Ziq42r2VN"
      },
      "source": [
        "## Dependências para utilizar o PyTerrier: \n",
        "\n",
        "- Instalar o framework via `pip install python-terrier`\n",
        "- O pyterrier precisa ter a versão 11 do Java para funcionar, portanto se o notebook for rodado localmente é necessário ter o `JAVA_HOME` nas variáveis de ambiente.\n",
        "- Além disso, é requisito executar o comando `pt.init()` antes de utilizar qualquer outra função ou classe do pyterrier."
      ]
    },
    {
      "cell_type": "code",
      "metadata": {
        "id": "JWLqWXBHeBRc",
        "colab": {
          "base_uri": "https://localhost:8080/"
        },
        "outputId": "1b8ed1fa-d105-4faf-bc7b-757278d2ab64"
      },
      "source": [
        "!pip install python-terrier\n",
        "#!pip install --upgrade git+https://github.com/terrier-org/pyterrier.git#egg=python-terrier"
      ],
      "execution_count": 1,
      "outputs": [
        {
          "output_type": "stream",
          "name": "stdout",
          "text": [
            "Collecting python-terrier\n",
            "  Downloading python-terrier-0.7.0.tar.gz (95 kB)\n",
            "\u001b[?25l\r\u001b[K     |███▍                            | 10 kB 21.6 MB/s eta 0:00:01\r\u001b[K     |██████▉                         | 20 kB 28.1 MB/s eta 0:00:01\r\u001b[K     |██████████▎                     | 30 kB 27.8 MB/s eta 0:00:01\r\u001b[K     |█████████████▊                  | 40 kB 18.8 MB/s eta 0:00:01\r\u001b[K     |█████████████████▏              | 51 kB 7.7 MB/s eta 0:00:01\r\u001b[K     |████████████████████▋           | 61 kB 8.9 MB/s eta 0:00:01\r\u001b[K     |████████████████████████        | 71 kB 8.0 MB/s eta 0:00:01\r\u001b[K     |███████████████████████████▌    | 81 kB 8.6 MB/s eta 0:00:01\r\u001b[K     |███████████████████████████████ | 92 kB 9.5 MB/s eta 0:00:01\r\u001b[K     |████████████████████████████████| 95 kB 3.0 MB/s \n",
            "\u001b[?25hRequirement already satisfied: numpy in /usr/local/lib/python3.7/dist-packages (from python-terrier) (1.19.5)\n",
            "Requirement already satisfied: pandas in /usr/local/lib/python3.7/dist-packages (from python-terrier) (1.1.5)\n",
            "Collecting wget\n",
            "  Downloading wget-3.2.zip (10 kB)\n",
            "Requirement already satisfied: tqdm in /usr/local/lib/python3.7/dist-packages (from python-terrier) (4.62.3)\n",
            "Collecting pyjnius~=1.3.0\n",
            "  Downloading pyjnius-1.3.0-cp37-cp37m-manylinux2010_x86_64.whl (1.1 MB)\n",
            "\u001b[K     |████████████████████████████████| 1.1 MB 17.2 MB/s \n",
            "\u001b[?25hCollecting matchpy\n",
            "  Downloading matchpy-0.5.4-py3-none-any.whl (69 kB)\n",
            "\u001b[K     |████████████████████████████████| 69 kB 6.6 MB/s \n",
            "\u001b[?25hRequirement already satisfied: sklearn in /usr/local/lib/python3.7/dist-packages (from python-terrier) (0.0)\n",
            "Collecting deprecation\n",
            "  Downloading deprecation-2.1.0-py2.py3-none-any.whl (11 kB)\n",
            "Collecting chest\n",
            "  Downloading chest-0.2.3.tar.gz (9.6 kB)\n",
            "Requirement already satisfied: scipy in /usr/local/lib/python3.7/dist-packages (from python-terrier) (1.4.1)\n",
            "Requirement already satisfied: requests in /usr/local/lib/python3.7/dist-packages (from python-terrier) (2.23.0)\n",
            "Requirement already satisfied: joblib in /usr/local/lib/python3.7/dist-packages (from python-terrier) (1.0.1)\n",
            "Collecting nptyping\n",
            "  Downloading nptyping-1.4.4-py3-none-any.whl (31 kB)\n",
            "Requirement already satisfied: more_itertools in /usr/local/lib/python3.7/dist-packages (from python-terrier) (8.10.0)\n",
            "Collecting ir_datasets>=0.3.2\n",
            "  Downloading ir_datasets-0.4.3-py3-none-any.whl (222 kB)\n",
            "\u001b[K     |████████████████████████████████| 222 kB 50.3 MB/s \n",
            "\u001b[?25hRequirement already satisfied: jinja2 in /usr/local/lib/python3.7/dist-packages (from python-terrier) (2.11.3)\n",
            "Requirement already satisfied: statsmodels in /usr/local/lib/python3.7/dist-packages (from python-terrier) (0.10.2)\n",
            "Collecting ir_measures>=0.2.0\n",
            "  Downloading ir_measures-0.2.1.tar.gz (36 kB)\n",
            "Requirement already satisfied: dill in /usr/local/lib/python3.7/dist-packages (from python-terrier) (0.3.4)\n",
            "Collecting pyautocorpus>=0.1.1\n",
            "  Downloading pyautocorpus-0.1.6-cp37-cp37m-manylinux_2_12_x86_64.manylinux2010_x86_64.whl (294 kB)\n",
            "\u001b[K     |████████████████████████████████| 294 kB 47.9 MB/s \n",
            "\u001b[?25hCollecting trec-car-tools>=2.5.4\n",
            "  Downloading trec_car_tools-2.5.4-py3-none-any.whl (8.1 kB)\n",
            "Collecting pyyaml>=5.3.1\n",
            "  Downloading PyYAML-5.4.1-cp37-cp37m-manylinux1_x86_64.whl (636 kB)\n",
            "\u001b[K     |████████████████████████████████| 636 kB 48.5 MB/s \n",
            "\u001b[?25hCollecting lxml>=4.5.2\n",
            "  Downloading lxml-4.6.3-cp37-cp37m-manylinux2014_x86_64.whl (6.3 MB)\n",
            "\u001b[K     |████████████████████████████████| 6.3 MB 50.9 MB/s \n",
            "\u001b[?25hRequirement already satisfied: beautifulsoup4>=4.4.1 in /usr/local/lib/python3.7/dist-packages (from ir_datasets>=0.3.2->python-terrier) (4.6.3)\n",
            "Collecting zlib-state>=0.1.3\n",
            "  Downloading zlib_state-0.1.3-cp37-cp37m-manylinux2010_x86_64.whl (72 kB)\n",
            "\u001b[K     |████████████████████████████████| 72 kB 1.2 MB/s \n",
            "\u001b[?25hCollecting warc3-wet>=0.2.3\n",
            "  Downloading warc3_wet-0.2.3-py3-none-any.whl (13 kB)\n",
            "Collecting warc3-wet-clueweb09>=0.2.5\n",
            "  Downloading warc3-wet-clueweb09-0.2.5.tar.gz (17 kB)\n",
            "Collecting ijson>=3.1.3\n",
            "  Downloading ijson-3.1.4-cp37-cp37m-manylinux2010_x86_64.whl (126 kB)\n",
            "\u001b[K     |████████████████████████████████| 126 kB 56.8 MB/s \n",
            "\u001b[?25hCollecting lz4>=3.1.1\n",
            "  Downloading lz4-3.1.3-cp37-cp37m-manylinux2010_x86_64.whl (1.8 MB)\n",
            "\u001b[K     |████████████████████████████████| 1.8 MB 42.1 MB/s \n",
            "\u001b[?25hCollecting pytrec-eval-terrier==0.5.1\n",
            "  Downloading pytrec_eval_terrier-0.5.1-cp37-cp37m-manylinux2010_x86_64.whl (291 kB)\n",
            "\u001b[K     |████████████████████████████████| 291 kB 25.3 MB/s \n",
            "\u001b[?25hCollecting cwl-eval>=1.0.10\n",
            "  Downloading cwl-eval-1.0.10.tar.gz (31 kB)\n",
            "Requirement already satisfied: six>=1.7.0 in /usr/local/lib/python3.7/dist-packages (from pyjnius~=1.3.0->python-terrier) (1.15.0)\n",
            "Requirement already satisfied: cython in /usr/local/lib/python3.7/dist-packages (from pyjnius~=1.3.0->python-terrier) (0.29.24)\n",
            "Requirement already satisfied: chardet<4,>=3.0.2 in /usr/local/lib/python3.7/dist-packages (from requests->python-terrier) (3.0.4)\n",
            "Requirement already satisfied: certifi>=2017.4.17 in /usr/local/lib/python3.7/dist-packages (from requests->python-terrier) (2021.5.30)\n",
            "Requirement already satisfied: urllib3!=1.25.0,!=1.25.1,<1.26,>=1.21.1 in /usr/local/lib/python3.7/dist-packages (from requests->python-terrier) (1.24.3)\n",
            "Requirement already satisfied: idna<3,>=2.5 in /usr/local/lib/python3.7/dist-packages (from requests->python-terrier) (2.10)\n",
            "Collecting cbor>=1.0.0\n",
            "  Downloading cbor-1.0.0.tar.gz (20 kB)\n",
            "Requirement already satisfied: heapdict in /usr/local/lib/python3.7/dist-packages (from chest->python-terrier) (1.0.1)\n",
            "Requirement already satisfied: packaging in /usr/local/lib/python3.7/dist-packages (from deprecation->python-terrier) (21.0)\n",
            "Requirement already satisfied: MarkupSafe>=0.23 in /usr/local/lib/python3.7/dist-packages (from jinja2->python-terrier) (2.0.1)\n",
            "Collecting multiset<3.0,>=2.0\n",
            "  Downloading multiset-2.1.1-py2.py3-none-any.whl (8.8 kB)\n",
            "Collecting typish>=1.7.0\n",
            "  Downloading typish-1.9.3-py3-none-any.whl (45 kB)\n",
            "\u001b[K     |████████████████████████████████| 45 kB 2.4 MB/s \n",
            "\u001b[?25hRequirement already satisfied: pyparsing>=2.0.2 in /usr/local/lib/python3.7/dist-packages (from packaging->deprecation->python-terrier) (2.4.7)\n",
            "Requirement already satisfied: python-dateutil>=2.7.3 in /usr/local/lib/python3.7/dist-packages (from pandas->python-terrier) (2.8.2)\n",
            "Requirement already satisfied: pytz>=2017.2 in /usr/local/lib/python3.7/dist-packages (from pandas->python-terrier) (2018.9)\n",
            "Requirement already satisfied: scikit-learn in /usr/local/lib/python3.7/dist-packages (from sklearn->python-terrier) (0.22.2.post1)\n",
            "Requirement already satisfied: patsy>=0.4.0 in /usr/local/lib/python3.7/dist-packages (from statsmodels->python-terrier) (0.5.2)\n",
            "Building wheels for collected packages: python-terrier, ir-measures, cwl-eval, cbor, warc3-wet-clueweb09, chest, wget\n",
            "  Building wheel for python-terrier (setup.py) ... \u001b[?25l\u001b[?25hdone\n",
            "  Created wheel for python-terrier: filename=python_terrier-0.7.0-py3-none-any.whl size=102213 sha256=c3999dfa9a850f5dce2a5ca590dfca5b6a8f29d7262f15b1189c65b24fbd0a65\n",
            "  Stored in directory: /root/.cache/pip/wheels/e3/84/1e/68c08f14e2481e2b3e7c1a2c24bb1220712bc3f5d3896c28df\n",
            "  Building wheel for ir-measures (setup.py) ... \u001b[?25l\u001b[?25hdone\n",
            "  Created wheel for ir-measures: filename=ir_measures-0.2.1-py3-none-any.whl size=46421 sha256=98c1cfa4739e8ccadf37942e50344c223811caec40438f015a06c8919084fe79\n",
            "  Stored in directory: /root/.cache/pip/wheels/38/a4/34/d0b2e6c329f3d0fab3d3c3ed296b963cee47872811acdc3628\n",
            "  Building wheel for cwl-eval (setup.py) ... \u001b[?25l\u001b[?25hdone\n",
            "  Created wheel for cwl-eval: filename=cwl_eval-1.0.10-py3-none-any.whl size=37795 sha256=2dd4557c442cd25fbecdc7938fda97a06541b4717ffc2f96c7bfc6256be630fa\n",
            "  Stored in directory: /root/.cache/pip/wheels/ff/e9/ff/d2b6d72d9feb0d0b1b11aacfaf5cd866717034615c2d194093\n",
            "  Building wheel for cbor (setup.py) ... \u001b[?25l\u001b[?25hdone\n",
            "  Created wheel for cbor: filename=cbor-1.0.0-cp37-cp37m-linux_x86_64.whl size=51320 sha256=7703d4d4644932f52fc702cc59317db8ade468cec5558a25b859fc293bef0378\n",
            "  Stored in directory: /root/.cache/pip/wheels/19/77/49/c9c2c8dc5848502e606e8579d0bbda18b850fb056a6c62239d\n",
            "  Building wheel for warc3-wet-clueweb09 (setup.py) ... \u001b[?25l\u001b[?25hdone\n",
            "  Created wheel for warc3-wet-clueweb09: filename=warc3_wet_clueweb09-0.2.5-py3-none-any.whl size=18921 sha256=507311913cfa9f0546f8e24e0448bae9f24c1beeae90601c0b646732236cd2d9\n",
            "  Stored in directory: /root/.cache/pip/wheels/42/d4/3c/7c2b0c3d400ad744e4db69f2fde166655da2ed2198bfc02db6\n",
            "  Building wheel for chest (setup.py) ... \u001b[?25l\u001b[?25hdone\n",
            "  Created wheel for chest: filename=chest-0.2.3-py3-none-any.whl size=7632 sha256=4d6385c83e15a20d4f3fbf090e6746bb232472d3481348bbe475ca585bc2da6b\n",
            "  Stored in directory: /root/.cache/pip/wheels/fc/f5/b9/c436e11300809e6b40d46a5d2592fb0bff89e0712f2e878dc7\n",
            "  Building wheel for wget (setup.py) ... \u001b[?25l\u001b[?25hdone\n",
            "  Created wheel for wget: filename=wget-3.2-py3-none-any.whl size=9672 sha256=2b4b24577754a5d4151d016d9014432ad843d2ffe2db615f68c8d194348af043\n",
            "  Stored in directory: /root/.cache/pip/wheels/a1/b6/7c/0e63e34eb06634181c63adacca38b79ff8f35c37e3c13e3c02\n",
            "Successfully built python-terrier ir-measures cwl-eval cbor warc3-wet-clueweb09 chest wget\n",
            "Installing collected packages: cbor, zlib-state, warc3-wet-clueweb09, warc3-wet, typish, trec-car-tools, pyyaml, pytrec-eval-terrier, pyautocorpus, multiset, lz4, lxml, ijson, deprecation, cwl-eval, wget, pyjnius, nptyping, matchpy, ir-measures, ir-datasets, chest, python-terrier\n",
            "  Attempting uninstall: pyyaml\n",
            "    Found existing installation: PyYAML 3.13\n",
            "    Uninstalling PyYAML-3.13:\n",
            "      Successfully uninstalled PyYAML-3.13\n",
            "  Attempting uninstall: lxml\n",
            "    Found existing installation: lxml 4.2.6\n",
            "    Uninstalling lxml-4.2.6:\n",
            "      Successfully uninstalled lxml-4.2.6\n",
            "Successfully installed cbor-1.0.0 chest-0.2.3 cwl-eval-1.0.10 deprecation-2.1.0 ijson-3.1.4 ir-datasets-0.4.3 ir-measures-0.2.1 lxml-4.6.3 lz4-3.1.3 matchpy-0.5.4 multiset-2.1.1 nptyping-1.4.4 pyautocorpus-0.1.6 pyjnius-1.3.0 python-terrier-0.7.0 pytrec-eval-terrier-0.5.1 pyyaml-5.4.1 trec-car-tools-2.5.4 typish-1.9.3 warc3-wet-0.2.3 warc3-wet-clueweb09-0.2.5 wget-3.2 zlib-state-0.1.3\n"
          ]
        }
      ]
    },
    {
      "cell_type": "markdown",
      "metadata": {
        "id": "oWUFvvKeuKCl"
      },
      "source": [
        "*Iniciando o pyterrier...*"
      ]
    },
    {
      "cell_type": "code",
      "metadata": {
        "id": "k3ltUZ8PgWmz",
        "colab": {
          "base_uri": "https://localhost:8080/"
        },
        "outputId": "75bfd36e-c2b6-4e0e-de73-385865b67b62"
      },
      "source": [
        "import pyterrier as pt\n",
        "if not pt.started():\n",
        "  pt.init()"
      ],
      "execution_count": 2,
      "outputs": [
        {
          "output_type": "stream",
          "name": "stdout",
          "text": [
            "terrier-assemblies 5.6  jar-with-dependencies not found, downloading to /root/.pyterrier...\n",
            "Done\n",
            "terrier-python-helper 0.0.6  jar not found, downloading to /root/.pyterrier...\n",
            "Done\n",
            "PyTerrier 0.7.0 has loaded Terrier 5.6 (built by craigmacdonald on 2021-09-17 13:27)\n"
          ]
        }
      ]
    },
    {
      "cell_type": "markdown",
      "metadata": {
        "id": "tRKCv566uUmO"
      },
      "source": [
        "### Carregando os Dados "
      ]
    },
    {
      "cell_type": "code",
      "metadata": {
        "colab": {
          "base_uri": "https://localhost:8080/"
        },
        "id": "U9gpn3Qoo_G6",
        "outputId": "6691fdc1-3715-4b97-dbf1-e35f5a2ec297"
      },
      "source": [
        "!wget https://www.dropbox.com/s/pkf3o7bxjp1lbde/qrels_FSP2021.txt?dl=0"
      ],
      "execution_count": 102,
      "outputs": [
        {
          "output_type": "stream",
          "name": "stdout",
          "text": [
            "--2021-10-07 21:23:51--  https://www.dropbox.com/s/pkf3o7bxjp1lbde/qrels_FSP2021.txt?dl=0\n",
            "Resolving www.dropbox.com (www.dropbox.com)... 162.125.1.18, 2620:100:6016:18::a27d:112\n",
            "Connecting to www.dropbox.com (www.dropbox.com)|162.125.1.18|:443... connected.\n",
            "HTTP request sent, awaiting response... 301 Moved Permanently\n",
            "Location: /s/raw/pkf3o7bxjp1lbde/qrels_FSP2021.txt [following]\n",
            "--2021-10-07 21:23:52--  https://www.dropbox.com/s/raw/pkf3o7bxjp1lbde/qrels_FSP2021.txt\n",
            "Reusing existing connection to www.dropbox.com:443.\n",
            "HTTP request sent, awaiting response... 302 Found\n",
            "Location: https://uc857caf3dd31385959934758319.dl.dropboxusercontent.com/cd/0/inline/BXkEj26vRNemxRcNio-XMED_Ona0LPX2nlc73Jhx4lhNaJaHZq7z3Pn5DID8IR4BnV506DumkhoHqoLM5jISmTEAI8tdSD33lXBmJPXwV1fwlQYig_PSzLiVt4gHyscE5kv-ABui55yhx7Dm0vIRTKck/file# [following]\n",
            "--2021-10-07 21:23:52--  https://uc857caf3dd31385959934758319.dl.dropboxusercontent.com/cd/0/inline/BXkEj26vRNemxRcNio-XMED_Ona0LPX2nlc73Jhx4lhNaJaHZq7z3Pn5DID8IR4BnV506DumkhoHqoLM5jISmTEAI8tdSD33lXBmJPXwV1fwlQYig_PSzLiVt4gHyscE5kv-ABui55yhx7Dm0vIRTKck/file\n",
            "Resolving uc857caf3dd31385959934758319.dl.dropboxusercontent.com (uc857caf3dd31385959934758319.dl.dropboxusercontent.com)... 162.125.1.15, 2620:100:6035:15::a27d:550f\n",
            "Connecting to uc857caf3dd31385959934758319.dl.dropboxusercontent.com (uc857caf3dd31385959934758319.dl.dropboxusercontent.com)|162.125.1.15|:443... connected.\n",
            "HTTP request sent, awaiting response... 200 OK\n",
            "Length: 101926 (100K) [text/plain]\n",
            "Saving to: ‘qrels_FSP2021.txt?dl=0’\n",
            "\n",
            "qrels_FSP2021.txt?d 100%[===================>]  99.54K  --.-KB/s    in 0.02s   \n",
            "\n",
            "2021-10-07 21:23:52 (6.35 MB/s) - ‘qrels_FSP2021.txt?dl=0’ saved [101926/101926]\n",
            "\n"
          ]
        }
      ]
    },
    {
      "cell_type": "code",
      "metadata": {
        "colab": {
          "base_uri": "https://localhost:8080/"
        },
        "id": "tlz3GH-SKN1g",
        "outputId": "9e052e78-1b1c-4580-8026-368223d2c832"
      },
      "source": [
        "!wget https://www.dropbox.com/s/va44q299g0edx34/collection.zip?dl=0"
      ],
      "execution_count": 3,
      "outputs": [
        {
          "output_type": "stream",
          "name": "stdout",
          "text": [
            "--2021-10-07 17:47:32--  https://www.dropbox.com/s/va44q299g0edx34/collection.zip?dl=0\n",
            "Resolving www.dropbox.com (www.dropbox.com)... 162.125.1.18, 2620:100:6016:18::a27d:112\n",
            "Connecting to www.dropbox.com (www.dropbox.com)|162.125.1.18|:443... connected.\n",
            "HTTP request sent, awaiting response... 301 Moved Permanently\n",
            "Location: /s/raw/va44q299g0edx34/collection.zip [following]\n",
            "--2021-10-07 17:47:32--  https://www.dropbox.com/s/raw/va44q299g0edx34/collection.zip\n",
            "Reusing existing connection to www.dropbox.com:443.\n",
            "HTTP request sent, awaiting response... 302 Found\n",
            "Location: https://uc18046aedc8eb9ee13dfaef3827.dl.dropboxusercontent.com/cd/0/inline/BXlCOh9Gv42jFvKyPxWejo1xmqYuoZo92fFn-owtFCrUMDLQQyBJXREwTfS88RDOaI1lmZ1k62fVdCyp5vqUPxhI7OeKGYun_kB1_pGnwlYsvEES3kR1WCkSbsura7YOaApjLVv0Qj8xOpqUb6dUE4H8/file# [following]\n",
            "--2021-10-07 17:47:32--  https://uc18046aedc8eb9ee13dfaef3827.dl.dropboxusercontent.com/cd/0/inline/BXlCOh9Gv42jFvKyPxWejo1xmqYuoZo92fFn-owtFCrUMDLQQyBJXREwTfS88RDOaI1lmZ1k62fVdCyp5vqUPxhI7OeKGYun_kB1_pGnwlYsvEES3kR1WCkSbsura7YOaApjLVv0Qj8xOpqUb6dUE4H8/file\n",
            "Resolving uc18046aedc8eb9ee13dfaef3827.dl.dropboxusercontent.com (uc18046aedc8eb9ee13dfaef3827.dl.dropboxusercontent.com)... 162.125.1.15, 2620:100:6016:15::a27d:10f\n",
            "Connecting to uc18046aedc8eb9ee13dfaef3827.dl.dropboxusercontent.com (uc18046aedc8eb9ee13dfaef3827.dl.dropboxusercontent.com)|162.125.1.15|:443... connected.\n",
            "HTTP request sent, awaiting response... 302 Found\n",
            "Location: /cd/0/inline2/BXlGI-Z0jHpW8uAYZ8Kn2WWLAJ9fqnRfEMh2CnCFzy3fKK0zQ5Ulh1OBqKqLOkRHT8DOyvIbjgExx4vm16pAiThF-wY7i-qDMkQz9C0tStpHlixucPmy_1kfmjN6U_1y3NKELY81jRyETN0a8VBWnyDvMa_5ScM0dumwPLqFgoXi8ZOkiRTNVru5R5TBY3fd4DDCoIcxwtqYyLJ5TYgx8c3buYZNwmhnDb1caHttOp8TjgO66L3WGL7Mti-LzIaAQt6BHDBSmImRfQcpgBLKFZwR3ys28r9KFHrkD_r1yPhDaPsHk0jIUYcS8ooRdiDapRL6fKasFT9oWMfE_GTHvPLYJ5ICx-yJ-qaVE-I9PDj-cA79JnmeTIXz7V-eTZssVnk/file [following]\n",
            "--2021-10-07 17:47:32--  https://uc18046aedc8eb9ee13dfaef3827.dl.dropboxusercontent.com/cd/0/inline2/BXlGI-Z0jHpW8uAYZ8Kn2WWLAJ9fqnRfEMh2CnCFzy3fKK0zQ5Ulh1OBqKqLOkRHT8DOyvIbjgExx4vm16pAiThF-wY7i-qDMkQz9C0tStpHlixucPmy_1kfmjN6U_1y3NKELY81jRyETN0a8VBWnyDvMa_5ScM0dumwPLqFgoXi8ZOkiRTNVru5R5TBY3fd4DDCoIcxwtqYyLJ5TYgx8c3buYZNwmhnDb1caHttOp8TjgO66L3WGL7Mti-LzIaAQt6BHDBSmImRfQcpgBLKFZwR3ys28r9KFHrkD_r1yPhDaPsHk0jIUYcS8ooRdiDapRL6fKasFT9oWMfE_GTHvPLYJ5ICx-yJ-qaVE-I9PDj-cA79JnmeTIXz7V-eTZssVnk/file\n",
            "Reusing existing connection to uc18046aedc8eb9ee13dfaef3827.dl.dropboxusercontent.com:443.\n",
            "HTTP request sent, awaiting response... 200 OK\n",
            "Length: 43367691 (41M) [application/zip]\n",
            "Saving to: ‘collection.zip?dl=0’\n",
            "\n",
            "collection.zip?dl=0 100%[===================>]  41.36M  87.5MB/s    in 0.5s    \n",
            "\n",
            "2021-10-07 17:47:33 (87.5 MB/s) - ‘collection.zip?dl=0’ saved [43367691/43367691]\n",
            "\n"
          ]
        }
      ]
    },
    {
      "cell_type": "code",
      "metadata": {
        "colab": {
          "base_uri": "https://localhost:8080/"
        },
        "id": "XO390A3SKmqi",
        "outputId": "d3e58097-cf50-4bce-9a3a-11927d42e681"
      },
      "source": [
        "!unzip \"/content/collection.zip?dl=0\" -d \"/content/collection\" "
      ],
      "execution_count": 4,
      "outputs": [
        {
          "output_type": "stream",
          "name": "stdout",
          "text": [
            "Archive:  /content/collection.zip?dl=0\n",
            "  inflating: /content/collection/Consultas_UTF8.txt  \n",
            "   creating: /content/collection/docs/\n",
            "  inflating: /content/collection/docs/FSP.950101.sgml  \n",
            "  inflating: /content/collection/docs/FSP.950102.sgml  \n",
            "  inflating: /content/collection/docs/FSP.950103.sgml  \n",
            "  inflating: /content/collection/docs/FSP.950104.sgml  \n",
            "  inflating: /content/collection/docs/FSP.950105.sgml  \n",
            "  inflating: /content/collection/docs/FSP.950106.sgml  \n",
            "  inflating: /content/collection/docs/FSP.950107.sgml  \n",
            "  inflating: /content/collection/docs/FSP.950108.sgml  \n",
            "  inflating: /content/collection/docs/FSP.950109.sgml  \n",
            "  inflating: /content/collection/docs/FSP.950110.sgml  \n",
            "  inflating: /content/collection/docs/FSP.950111.sgml  \n",
            "  inflating: /content/collection/docs/FSP.950112.sgml  \n",
            "  inflating: /content/collection/docs/FSP.950113.sgml  \n",
            "  inflating: /content/collection/docs/FSP.950114.sgml  \n",
            "  inflating: /content/collection/docs/FSP.950115.sgml  \n",
            "  inflating: /content/collection/docs/FSP.950116.sgml  \n",
            "  inflating: /content/collection/docs/FSP.950117.sgml  \n",
            "  inflating: /content/collection/docs/FSP.950118.sgml  \n",
            "  inflating: /content/collection/docs/FSP.950119.sgml  \n",
            "  inflating: /content/collection/docs/FSP.950120.sgml  \n",
            "  inflating: /content/collection/docs/FSP.950121.sgml  \n",
            "  inflating: /content/collection/docs/FSP.950122.sgml  \n",
            "  inflating: /content/collection/docs/FSP.950123.sgml  \n",
            "  inflating: /content/collection/docs/FSP.950124.sgml  \n",
            "  inflating: /content/collection/docs/FSP.950125.sgml  \n",
            "  inflating: /content/collection/docs/FSP.950126.sgml  \n",
            "  inflating: /content/collection/docs/FSP.950127.sgml  \n",
            "  inflating: /content/collection/docs/FSP.950128.sgml  \n",
            "  inflating: /content/collection/docs/FSP.950129.sgml  \n",
            "  inflating: /content/collection/docs/FSP.950130.sgml  \n",
            "  inflating: /content/collection/docs/FSP.950131.sgml  \n",
            "  inflating: /content/collection/docs/FSP.950201.sgml  \n",
            "  inflating: /content/collection/docs/FSP.950202.sgml  \n",
            "  inflating: /content/collection/docs/FSP.950203.sgml  \n",
            "  inflating: /content/collection/docs/FSP.950204.sgml  \n",
            "  inflating: /content/collection/docs/FSP.950205.sgml  \n",
            "  inflating: /content/collection/docs/FSP.950206.sgml  \n",
            "  inflating: /content/collection/docs/FSP.950207.sgml  \n",
            "  inflating: /content/collection/docs/FSP.950208.sgml  \n",
            "  inflating: /content/collection/docs/FSP.950209.sgml  \n",
            "  inflating: /content/collection/docs/FSP.950210.sgml  \n",
            "  inflating: /content/collection/docs/FSP.950211.sgml  \n",
            "  inflating: /content/collection/docs/FSP.950212.sgml  \n",
            "  inflating: /content/collection/docs/FSP.950213.sgml  \n",
            "  inflating: /content/collection/docs/FSP.950214.sgml  \n",
            "  inflating: /content/collection/docs/FSP.950215.sgml  \n",
            "  inflating: /content/collection/docs/FSP.950216.sgml  \n",
            "  inflating: /content/collection/docs/FSP.950217.sgml  \n",
            "  inflating: /content/collection/docs/FSP.950218.sgml  \n",
            "  inflating: /content/collection/docs/FSP.950219.sgml  \n",
            "  inflating: /content/collection/docs/FSP.950220.sgml  \n",
            "  inflating: /content/collection/docs/FSP.950221.sgml  \n",
            "  inflating: /content/collection/docs/FSP.950222.sgml  \n",
            "  inflating: /content/collection/docs/FSP.950223.sgml  \n",
            "  inflating: /content/collection/docs/FSP.950224.sgml  \n",
            "  inflating: /content/collection/docs/FSP.950225.sgml  \n",
            "  inflating: /content/collection/docs/FSP.950226.sgml  \n",
            "  inflating: /content/collection/docs/FSP.950227.sgml  \n",
            "  inflating: /content/collection/docs/FSP.950228.sgml  \n",
            "  inflating: /content/collection/docs/FSP.950301.sgml  \n",
            "  inflating: /content/collection/docs/FSP.950302.sgml  \n",
            "  inflating: /content/collection/docs/FSP.950303.sgml  \n",
            "  inflating: /content/collection/docs/FSP.950304.sgml  \n",
            "  inflating: /content/collection/docs/FSP.950305.sgml  \n",
            "  inflating: /content/collection/docs/FSP.950306.sgml  \n",
            "  inflating: /content/collection/docs/FSP.950307.sgml  \n",
            "  inflating: /content/collection/docs/FSP.950308.sgml  \n",
            "  inflating: /content/collection/docs/FSP.950309.sgml  \n",
            "  inflating: /content/collection/docs/FSP.950310.sgml  \n",
            "  inflating: /content/collection/docs/FSP.950311.sgml  \n",
            "  inflating: /content/collection/docs/FSP.950312.sgml  \n",
            "  inflating: /content/collection/docs/FSP.950313.sgml  \n",
            "  inflating: /content/collection/docs/FSP.950314.sgml  \n",
            "  inflating: /content/collection/docs/FSP.950315.sgml  \n",
            "  inflating: /content/collection/docs/FSP.950316.sgml  \n",
            "  inflating: /content/collection/docs/FSP.950317.sgml  \n",
            "  inflating: /content/collection/docs/FSP.950318.sgml  \n",
            "  inflating: /content/collection/docs/FSP.950319.sgml  \n",
            "  inflating: /content/collection/docs/FSP.950320.sgml  \n",
            "  inflating: /content/collection/docs/FSP.950321.sgml  \n",
            "  inflating: /content/collection/docs/FSP.950322.sgml  \n",
            "  inflating: /content/collection/docs/FSP.950323.sgml  \n",
            "  inflating: /content/collection/docs/FSP.950324.sgml  \n",
            "  inflating: /content/collection/docs/FSP.950325.sgml  \n",
            "  inflating: /content/collection/docs/FSP.950326.sgml  \n",
            "  inflating: /content/collection/docs/FSP.950327.sgml  \n",
            "  inflating: /content/collection/docs/FSP.950328.sgml  \n",
            "  inflating: /content/collection/docs/FSP.950329.sgml  \n",
            "  inflating: /content/collection/docs/FSP.950330.sgml  \n",
            "  inflating: /content/collection/docs/FSP.950331.sgml  \n",
            "  inflating: /content/collection/docs/FSP.950401.sgml  \n",
            "  inflating: /content/collection/docs/FSP.950402.sgml  \n",
            "  inflating: /content/collection/docs/FSP.950403.sgml  \n",
            "  inflating: /content/collection/docs/FSP.950404.sgml  \n",
            "  inflating: /content/collection/docs/FSP.950405.sgml  \n",
            "  inflating: /content/collection/docs/FSP.950406.sgml  \n",
            "  inflating: /content/collection/docs/FSP.950407.sgml  \n",
            "  inflating: /content/collection/docs/FSP.950408.sgml  \n",
            "  inflating: /content/collection/docs/FSP.950409.sgml  \n",
            "  inflating: /content/collection/docs/FSP.950410.sgml  \n",
            "  inflating: /content/collection/docs/FSP.950411.sgml  \n",
            "  inflating: /content/collection/docs/FSP.950412.sgml  \n",
            "  inflating: /content/collection/docs/FSP.950413.sgml  \n",
            "  inflating: /content/collection/docs/FSP.950414.sgml  \n",
            "  inflating: /content/collection/docs/FSP.950415.sgml  \n",
            "  inflating: /content/collection/docs/FSP.950416.sgml  \n",
            "  inflating: /content/collection/docs/FSP.950417.sgml  \n",
            "  inflating: /content/collection/docs/FSP.950418.sgml  \n",
            "  inflating: /content/collection/docs/FSP.950419.sgml  \n",
            "  inflating: /content/collection/docs/FSP.950420.sgml  \n",
            "  inflating: /content/collection/docs/FSP.950421.sgml  \n",
            "  inflating: /content/collection/docs/FSP.950422.sgml  \n",
            "  inflating: /content/collection/docs/FSP.950423.sgml  \n",
            "  inflating: /content/collection/docs/FSP.950424.sgml  \n",
            "  inflating: /content/collection/docs/FSP.950425.sgml  \n",
            "  inflating: /content/collection/docs/FSP.950426.sgml  \n",
            "  inflating: /content/collection/docs/FSP.950427.sgml  \n",
            "  inflating: /content/collection/docs/FSP.950428.sgml  \n",
            "  inflating: /content/collection/docs/FSP.950429.sgml  \n",
            "  inflating: /content/collection/docs/FSP.950430.sgml  \n",
            "  inflating: /content/collection/docs/FSP.950501.sgml  \n",
            "  inflating: /content/collection/docs/FSP.950502.sgml  \n",
            "  inflating: /content/collection/docs/FSP.950503.sgml  \n",
            "  inflating: /content/collection/docs/FSP.950504.sgml  \n",
            "  inflating: /content/collection/docs/FSP.950505.sgml  \n",
            "  inflating: /content/collection/docs/FSP.950506.sgml  \n",
            "  inflating: /content/collection/docs/FSP.950507.sgml  \n",
            "  inflating: /content/collection/docs/FSP.950508.sgml  \n",
            "  inflating: /content/collection/docs/FSP.950509.sgml  \n",
            "  inflating: /content/collection/docs/FSP.950510.sgml  \n",
            "  inflating: /content/collection/docs/FSP.950511.sgml  \n",
            "  inflating: /content/collection/docs/FSP.950512.sgml  \n",
            "  inflating: /content/collection/docs/FSP.950513.sgml  \n",
            "  inflating: /content/collection/docs/FSP.950514.sgml  \n",
            "  inflating: /content/collection/docs/FSP.950515.sgml  \n",
            "  inflating: /content/collection/docs/FSP.950516.sgml  \n",
            "  inflating: /content/collection/docs/FSP.950517.sgml  \n",
            "  inflating: /content/collection/docs/FSP.950518.sgml  \n",
            "  inflating: /content/collection/docs/FSP.950519.sgml  \n",
            "  inflating: /content/collection/docs/FSP.950520.sgml  \n",
            "  inflating: /content/collection/docs/FSP.950521.sgml  \n",
            "  inflating: /content/collection/docs/FSP.950522.sgml  \n",
            "  inflating: /content/collection/docs/FSP.950523.sgml  \n",
            "  inflating: /content/collection/docs/FSP.950524.sgml  \n",
            "  inflating: /content/collection/docs/FSP.950525.sgml  \n",
            "  inflating: /content/collection/docs/FSP.950526.sgml  \n",
            "  inflating: /content/collection/docs/FSP.950527.sgml  \n",
            "  inflating: /content/collection/docs/FSP.950528.sgml  \n",
            "  inflating: /content/collection/docs/FSP.950529.sgml  \n",
            "  inflating: /content/collection/docs/FSP.950530.sgml  \n",
            "  inflating: /content/collection/docs/FSP.950531.sgml  \n",
            "  inflating: /content/collection/docs/FSP.950601.sgml  \n",
            "  inflating: /content/collection/docs/FSP.950602.sgml  \n",
            "  inflating: /content/collection/docs/FSP.950603.sgml  \n",
            "  inflating: /content/collection/docs/FSP.950604.sgml  \n",
            "  inflating: /content/collection/docs/FSP.950605.sgml  \n",
            "  inflating: /content/collection/docs/FSP.950606.sgml  \n",
            "  inflating: /content/collection/docs/FSP.950607.sgml  \n",
            "  inflating: /content/collection/docs/FSP.950608.sgml  \n",
            "  inflating: /content/collection/docs/FSP.950609.sgml  \n",
            "  inflating: /content/collection/docs/FSP.950610.sgml  \n",
            "  inflating: /content/collection/docs/FSP.950611.sgml  \n",
            "  inflating: /content/collection/docs/FSP.950612.sgml  \n",
            "  inflating: /content/collection/docs/FSP.950613.sgml  \n",
            "  inflating: /content/collection/docs/FSP.950614.sgml  \n",
            "  inflating: /content/collection/docs/FSP.950615.sgml  \n",
            "  inflating: /content/collection/docs/FSP.950616.sgml  \n",
            "  inflating: /content/collection/docs/FSP.950617.sgml  \n",
            "  inflating: /content/collection/docs/FSP.950618.sgml  \n",
            "  inflating: /content/collection/docs/FSP.950619.sgml  \n",
            "  inflating: /content/collection/docs/FSP.950620.sgml  \n",
            "  inflating: /content/collection/docs/FSP.950621.sgml  \n",
            "  inflating: /content/collection/docs/FSP.950622.sgml  \n",
            "  inflating: /content/collection/docs/FSP.950623.sgml  \n",
            "  inflating: /content/collection/docs/FSP.950624.sgml  \n",
            "  inflating: /content/collection/docs/FSP.950625.sgml  \n",
            "  inflating: /content/collection/docs/FSP.950626.sgml  \n",
            "  inflating: /content/collection/docs/FSP.950627.sgml  \n",
            "  inflating: /content/collection/docs/FSP.950628.sgml  \n",
            "  inflating: /content/collection/docs/FSP.950629.sgml  \n",
            "  inflating: /content/collection/docs/FSP.950630.sgml  \n",
            "  inflating: /content/collection/docs/FSP.950701.sgml  \n",
            "  inflating: /content/collection/docs/FSP.950702.sgml  \n",
            "  inflating: /content/collection/docs/FSP.950703.sgml  \n",
            "  inflating: /content/collection/docs/FSP.950704.sgml  \n",
            "  inflating: /content/collection/docs/FSP.950705.sgml  \n",
            "  inflating: /content/collection/docs/FSP.950706.sgml  \n",
            "  inflating: /content/collection/docs/FSP.950707.sgml  \n",
            "  inflating: /content/collection/docs/FSP.950708.sgml  \n",
            "  inflating: /content/collection/docs/FSP.950709.sgml  \n",
            "  inflating: /content/collection/docs/FSP.950710.sgml  \n",
            "  inflating: /content/collection/docs/FSP.950711.sgml  \n",
            "  inflating: /content/collection/docs/FSP.950712.sgml  \n",
            "  inflating: /content/collection/docs/FSP.950713.sgml  \n",
            "  inflating: /content/collection/docs/FSP.950714.sgml  \n",
            "  inflating: /content/collection/docs/FSP.950715.sgml  \n",
            "  inflating: /content/collection/docs/FSP.950716.sgml  \n",
            "  inflating: /content/collection/docs/FSP.950717.sgml  \n",
            "  inflating: /content/collection/docs/FSP.950718.sgml  \n",
            "  inflating: /content/collection/docs/FSP.950719.sgml  \n",
            "  inflating: /content/collection/docs/FSP.950720.sgml  \n",
            "  inflating: /content/collection/docs/FSP.950721.sgml  \n",
            "  inflating: /content/collection/docs/FSP.950722.sgml  \n",
            "  inflating: /content/collection/docs/FSP.950723.sgml  \n",
            "  inflating: /content/collection/docs/FSP.950724.sgml  \n",
            "  inflating: /content/collection/docs/FSP.950725.sgml  \n",
            "  inflating: /content/collection/docs/FSP.950726.sgml  \n",
            "  inflating: /content/collection/docs/FSP.950727.sgml  \n",
            "  inflating: /content/collection/docs/FSP.950728.sgml  \n",
            "  inflating: /content/collection/docs/FSP.950729.sgml  \n",
            "  inflating: /content/collection/docs/FSP.950730.sgml  \n",
            "  inflating: /content/collection/docs/FSP.950731.sgml  \n",
            "  inflating: /content/collection/docs/FSP.950801.sgml  \n",
            "  inflating: /content/collection/docs/FSP.950802.sgml  \n",
            "  inflating: /content/collection/docs/FSP.950803.sgml  \n",
            "  inflating: /content/collection/docs/FSP.950804.sgml  \n",
            "  inflating: /content/collection/docs/FSP.950805.sgml  \n",
            "  inflating: /content/collection/docs/FSP.950806.sgml  \n",
            "  inflating: /content/collection/docs/FSP.950807.sgml  \n",
            "  inflating: /content/collection/docs/FSP.950808.sgml  \n",
            "  inflating: /content/collection/docs/FSP.950809.sgml  \n",
            "  inflating: /content/collection/docs/FSP.950810.sgml  \n",
            "  inflating: /content/collection/docs/FSP.950811.sgml  \n",
            "  inflating: /content/collection/docs/FSP.950812.sgml  \n",
            "  inflating: /content/collection/docs/FSP.950813.sgml  \n",
            "  inflating: /content/collection/docs/FSP.950814.sgml  \n",
            "  inflating: /content/collection/docs/FSP.950815.sgml  \n",
            "  inflating: /content/collection/docs/FSP.950816.sgml  \n",
            "  inflating: /content/collection/docs/FSP.950817.sgml  \n",
            "  inflating: /content/collection/docs/FSP.950818.sgml  \n",
            "  inflating: /content/collection/docs/FSP.950819.sgml  \n",
            "  inflating: /content/collection/docs/FSP.950820.sgml  \n",
            "  inflating: /content/collection/docs/FSP.950821.sgml  \n",
            "  inflating: /content/collection/docs/FSP.950822.sgml  \n",
            "  inflating: /content/collection/docs/FSP.950823.sgml  \n",
            "  inflating: /content/collection/docs/FSP.950824.sgml  \n",
            "  inflating: /content/collection/docs/FSP.950825.sgml  \n",
            "  inflating: /content/collection/docs/FSP.950826.sgml  \n",
            "  inflating: /content/collection/docs/FSP.950827.sgml  \n",
            "  inflating: /content/collection/docs/FSP.950828.sgml  \n",
            "  inflating: /content/collection/docs/FSP.950829.sgml  \n",
            "  inflating: /content/collection/docs/FSP.950830.sgml  \n",
            "  inflating: /content/collection/docs/FSP.950831.sgml  \n",
            "  inflating: /content/collection/docs/FSP.950901.sgml  \n",
            "  inflating: /content/collection/docs/FSP.950902.sgml  \n",
            "  inflating: /content/collection/docs/FSP.950903.sgml  \n",
            "  inflating: /content/collection/docs/FSP.950904.sgml  \n",
            "  inflating: /content/collection/docs/FSP.950905.sgml  \n",
            "  inflating: /content/collection/docs/FSP.950906.sgml  \n",
            "  inflating: /content/collection/docs/FSP.950907.sgml  \n",
            "  inflating: /content/collection/docs/FSP.950908.sgml  \n",
            "  inflating: /content/collection/docs/FSP.950909.sgml  \n",
            "  inflating: /content/collection/docs/FSP.950910.sgml  \n",
            "  inflating: /content/collection/docs/FSP.950911.sgml  \n",
            "  inflating: /content/collection/docs/FSP.950912.sgml  \n",
            "  inflating: /content/collection/docs/FSP.950913.sgml  \n",
            "  inflating: /content/collection/docs/FSP.950914.sgml  \n",
            "  inflating: /content/collection/docs/FSP.950915.sgml  \n",
            "  inflating: /content/collection/docs/FSP.950916.sgml  \n",
            "  inflating: /content/collection/docs/FSP.950917.sgml  \n",
            "  inflating: /content/collection/docs/FSP.950918.sgml  \n",
            "  inflating: /content/collection/docs/FSP.950919.sgml  \n",
            "  inflating: /content/collection/docs/FSP.950920.sgml  \n",
            "  inflating: /content/collection/docs/FSP.950921.sgml  \n",
            "  inflating: /content/collection/docs/FSP.950922.sgml  \n",
            "  inflating: /content/collection/docs/FSP.950923.sgml  \n",
            "  inflating: /content/collection/docs/FSP.950924.sgml  \n",
            "  inflating: /content/collection/docs/FSP.950925.sgml  \n",
            "  inflating: /content/collection/docs/FSP.950926.sgml  \n",
            "  inflating: /content/collection/docs/FSP.950927.sgml  \n",
            "  inflating: /content/collection/docs/FSP.950928.sgml  \n",
            "  inflating: /content/collection/docs/FSP.950929.sgml  \n",
            "  inflating: /content/collection/docs/FSP.950930.sgml  \n",
            "  inflating: /content/collection/docs/FSP.951001.sgml  \n",
            "  inflating: /content/collection/docs/FSP.951002.sgml  \n",
            "  inflating: /content/collection/docs/FSP.951003.sgml  \n",
            "  inflating: /content/collection/docs/FSP.951004.sgml  \n",
            "  inflating: /content/collection/docs/FSP.951005.sgml  \n",
            "  inflating: /content/collection/docs/FSP.951006.sgml  \n",
            "  inflating: /content/collection/docs/FSP.951007.sgml  \n",
            "  inflating: /content/collection/docs/FSP.951008.sgml  \n",
            "  inflating: /content/collection/docs/FSP.951009.sgml  \n",
            "  inflating: /content/collection/docs/FSP.951010.sgml  \n",
            "  inflating: /content/collection/docs/FSP.951011.sgml  \n",
            "  inflating: /content/collection/docs/FSP.951012.sgml  \n",
            "  inflating: /content/collection/docs/FSP.951013.sgml  \n",
            "  inflating: /content/collection/docs/FSP.951014.sgml  \n",
            "  inflating: /content/collection/docs/FSP.951015.sgml  \n",
            "  inflating: /content/collection/docs/FSP.951016.sgml  \n",
            "  inflating: /content/collection/docs/FSP.951017.sgml  \n",
            "  inflating: /content/collection/docs/FSP.951018.sgml  \n",
            "  inflating: /content/collection/docs/FSP.951019.sgml  \n",
            "  inflating: /content/collection/docs/FSP.951020.sgml  \n",
            "  inflating: /content/collection/docs/FSP.951021.sgml  \n",
            "  inflating: /content/collection/docs/FSP.951022.sgml  \n",
            "  inflating: /content/collection/docs/FSP.951023.sgml  \n",
            "  inflating: /content/collection/docs/FSP.951024.sgml  \n",
            "  inflating: /content/collection/docs/FSP.951025.sgml  \n",
            "  inflating: /content/collection/docs/FSP.951026.sgml  \n",
            "  inflating: /content/collection/docs/FSP.951027.sgml  \n",
            "  inflating: /content/collection/docs/FSP.951028.sgml  \n",
            "  inflating: /content/collection/docs/FSP.951029.sgml  \n",
            "  inflating: /content/collection/docs/FSP.951030.sgml  \n",
            "  inflating: /content/collection/docs/FSP.951031.sgml  \n",
            "  inflating: /content/collection/docs/FSP.951101.sgml  \n",
            "  inflating: /content/collection/docs/FSP.951102.sgml  \n",
            "  inflating: /content/collection/docs/FSP.951103.sgml  \n",
            "  inflating: /content/collection/docs/FSP.951104.sgml  \n",
            "  inflating: /content/collection/docs/FSP.951105.sgml  \n",
            "  inflating: /content/collection/docs/FSP.951106.sgml  \n",
            "  inflating: /content/collection/docs/FSP.951107.sgml  \n",
            "  inflating: /content/collection/docs/FSP.951108.sgml  \n",
            "  inflating: /content/collection/docs/FSP.951109.sgml  \n",
            "  inflating: /content/collection/docs/FSP.951110.sgml  \n",
            "  inflating: /content/collection/docs/FSP.951111.sgml  \n",
            "  inflating: /content/collection/docs/FSP.951112.sgml  \n",
            "  inflating: /content/collection/docs/FSP.951113.sgml  \n",
            "  inflating: /content/collection/docs/FSP.951114.sgml  \n",
            "  inflating: /content/collection/docs/FSP.951115.sgml  \n",
            "  inflating: /content/collection/docs/FSP.951116.sgml  \n",
            "  inflating: /content/collection/docs/FSP.951117.sgml  \n",
            "  inflating: /content/collection/docs/FSP.951118.sgml  \n",
            "  inflating: /content/collection/docs/FSP.951119.sgml  \n",
            "  inflating: /content/collection/docs/FSP.951120.sgml  \n",
            "  inflating: /content/collection/docs/FSP.951121.sgml  \n",
            "  inflating: /content/collection/docs/FSP.951122.sgml  \n",
            "  inflating: /content/collection/docs/FSP.951123.sgml  \n",
            "  inflating: /content/collection/docs/FSP.951124.sgml  \n",
            "  inflating: /content/collection/docs/FSP.951125.sgml  \n",
            "  inflating: /content/collection/docs/FSP.951126.sgml  \n",
            "  inflating: /content/collection/docs/FSP.951127.sgml  \n",
            "  inflating: /content/collection/docs/FSP.951128.sgml  \n",
            "  inflating: /content/collection/docs/FSP.951129.sgml  \n",
            "  inflating: /content/collection/docs/FSP.951130.sgml  \n",
            "  inflating: /content/collection/docs/FSP.951201.sgml  \n",
            "  inflating: /content/collection/docs/FSP.951202.sgml  \n",
            "  inflating: /content/collection/docs/FSP.951203.sgml  \n",
            "  inflating: /content/collection/docs/FSP.951204.sgml  \n",
            "  inflating: /content/collection/docs/FSP.951205.sgml  \n",
            "  inflating: /content/collection/docs/FSP.951206.sgml  \n",
            "  inflating: /content/collection/docs/FSP.951207.sgml  \n",
            "  inflating: /content/collection/docs/FSP.951208.sgml  \n",
            "  inflating: /content/collection/docs/FSP.951209.sgml  \n",
            "  inflating: /content/collection/docs/FSP.951210.sgml  \n",
            "  inflating: /content/collection/docs/FSP.951211.sgml  \n",
            "  inflating: /content/collection/docs/FSP.951212.sgml  \n",
            "  inflating: /content/collection/docs/FSP.951213.sgml  \n",
            "  inflating: /content/collection/docs/FSP.951214.sgml  \n",
            "  inflating: /content/collection/docs/FSP.951215.sgml  \n",
            "  inflating: /content/collection/docs/FSP.951216.sgml  \n",
            "  inflating: /content/collection/docs/FSP.951217.sgml  \n",
            "  inflating: /content/collection/docs/FSP.951218.sgml  \n",
            "  inflating: /content/collection/docs/FSP.951219.sgml  \n",
            "  inflating: /content/collection/docs/FSP.951220.sgml  \n",
            "  inflating: /content/collection/docs/FSP.951221.sgml  \n",
            "  inflating: /content/collection/docs/FSP.951222.sgml  \n",
            "  inflating: /content/collection/docs/FSP.951223.sgml  \n",
            "  inflating: /content/collection/docs/FSP.951224.sgml  \n",
            "  inflating: /content/collection/docs/FSP.951225.sgml  \n",
            "  inflating: /content/collection/docs/FSP.951226.sgml  \n",
            "  inflating: /content/collection/docs/FSP.951227.sgml  \n",
            "  inflating: /content/collection/docs/FSP.951228.sgml  \n",
            "  inflating: /content/collection/docs/FSP.951229.sgml  \n",
            "  inflating: /content/collection/docs/FSP.951230.sgml  \n",
            "  inflating: /content/collection/docs/FSP.951231.sgml  \n"
          ]
        }
      ]
    },
    {
      "cell_type": "code",
      "metadata": {
        "id": "78YB5iktuoow"
      },
      "source": [
        "#from google.colab import drive\n",
        "#drive.mount('/content/drive')"
      ],
      "execution_count": 5,
      "outputs": []
    },
    {
      "cell_type": "markdown",
      "metadata": {
        "id": "kogSZTwsOpEy"
      },
      "source": [
        "Cria pasta onde serão armazenados os resultados"
      ]
    },
    {
      "cell_type": "code",
      "metadata": {
        "id": "cec4rZ4HOxK5"
      },
      "source": [
        "!mkdir results"
      ],
      "execution_count": 6,
      "outputs": []
    },
    {
      "cell_type": "markdown",
      "metadata": {
        "id": "TNdMHD8LS2Bm"
      },
      "source": [
        "# Indexação"
      ]
    },
    {
      "cell_type": "markdown",
      "metadata": {
        "id": "By5UFYnRLgD0"
      },
      "source": [
        "Aqui estaremos utilizando o método `TRECCollectionIndexer` do PyTerrier para indexar os documentos.\n",
        "\n",
        " - `index_path` sinaliza o caminho onde ficará o índice.\n",
        " - `find_files()` busca de forma automática pelos documentos dentro do repositório especificado pelo caminho `files_path`.\n"
      ]
    },
    {
      "cell_type": "code",
      "metadata": {
        "id": "iXq3z6MdgWi4"
      },
      "source": [
        "index_path = \"./index\"\n",
        "files_path = '/content/collection/docs'\n",
        "files = pt.io.find_files(files_path)\n",
        "\n",
        "!rm -rf ./index\n",
        "indexer = pt.TRECCollectionIndexer(index_path, verbose=True)"
      ],
      "execution_count": 7,
      "outputs": []
    },
    {
      "cell_type": "markdown",
      "metadata": {
        "id": "gjsYdSDvOTi_"
      },
      "source": [
        "Depois de criado, é feito um ajuste no índice, onde chamamos um tokenizador universal `UTFTokeniser` para tokenizar os textos em português. Também configuramos um stemmer para língua potuguesa chamado `PortugueseSnowballStemmer`.\n"
      ]
    },
    {
      "cell_type": "code",
      "metadata": {
        "id": "-Va70HfBN7s7"
      },
      "source": [
        "indexer.setProperty(\"tokeniser\", \"UTFTokeniser\") \n",
        "indexer.setProperty(\"termpipelines\", \"PortugueseSnowballStemmer\")"
      ],
      "execution_count": 8,
      "outputs": []
    },
    {
      "cell_type": "markdown",
      "metadata": {
        "id": "ak_VGdxfQm0p"
      },
      "source": [
        "Indexamos os documentos ao chamar o método `index()` dentro do objeto TRECCollectionIndexer."
      ]
    },
    {
      "cell_type": "code",
      "metadata": {
        "id": "l3C3NLUwQq0p",
        "colab": {
          "base_uri": "https://localhost:8080/",
          "height": 49
        },
        "outputId": "377134da-4fe4-42c5-8d48-32a7d8877faa"
      },
      "source": [
        "indexref = indexer.index(files)"
      ],
      "execution_count": 9,
      "outputs": [
        {
          "output_type": "display_data",
          "data": {
            "application/vnd.jupyter.widget-view+json": {
              "model_id": "6f23c0e27c774293800b82aab4741110",
              "version_minor": 0,
              "version_major": 2
            },
            "text/plain": [
              "  0%|          | 0/365 [00:00<?, ?files/s]"
            ]
          },
          "metadata": {}
        }
      ]
    },
    {
      "cell_type": "code",
      "metadata": {
        "id": "hI9iNQdpoegm",
        "colab": {
          "base_uri": "https://localhost:8080/",
          "height": 35
        },
        "outputId": "825d9491-ee36-4149-d844-502e4fc630fb"
      },
      "source": [
        "indexref.toString()"
      ],
      "execution_count": 10,
      "outputs": [
        {
          "output_type": "execute_result",
          "data": {
            "application/vnd.google.colaboratory.intrinsic+json": {
              "type": "string"
            },
            "text/plain": [
              "'./index/data.properties'"
            ]
          },
          "metadata": {},
          "execution_count": 10
        }
      ]
    },
    {
      "cell_type": "markdown",
      "metadata": {
        "id": "Hf7hX8xXpN6q"
      },
      "source": [
        "\n",
        "É possível acessar informações sobre o índice, tais como as estatísticas do índice. Isso é feito através da chamada do método `getCollectionStatistics()`. Então podemos visualizar a quantidade de documentos, o número de termos, número de posting, etc.\n"
      ]
    },
    {
      "cell_type": "code",
      "metadata": {
        "id": "_wbIUBzeoqkZ",
        "colab": {
          "base_uri": "https://localhost:8080/"
        },
        "outputId": "0b6f40a8-fa44-4a3f-9100-91b6819fc428"
      },
      "source": [
        "index = pt.IndexFactory.of(indexref)\n",
        "print(index.getCollectionStatistics().toString())"
      ],
      "execution_count": 11,
      "outputs": [
        {
          "output_type": "stream",
          "name": "stdout",
          "text": [
            "Number of documents: 52038\n",
            "Number of terms: 96825\n",
            "Number of postings: 10070943\n",
            "Number of fields: 0\n",
            "Number of tokens: 20643664\n",
            "Field names: []\n",
            "Positions:   false\n",
            "\n"
          ]
        }
      ]
    },
    {
      "cell_type": "markdown",
      "metadata": {
        "id": "Ap6ycZkRwS29"
      },
      "source": [
        "## Recuperando Documentos Utilizando os Tópicos\n"
      ]
    },
    {
      "cell_type": "markdown",
      "metadata": {
        "id": "XJrjrviD4xZF"
      },
      "source": [
        "*Carregando os tópicos*\n",
        "\n",
        "O método `read_topics()` percorre o arquivo de tópicos e concatena o **título, descrição e narrativa** de cada tópico em uma única consulta."
      ]
    },
    {
      "cell_type": "code",
      "metadata": {
        "colab": {
          "base_uri": "https://localhost:8080/",
          "height": 205
        },
        "id": "YgKDqrsFvDds",
        "outputId": "d1fd2e79-e2ea-4662-e8ad-34c30d012a98"
      },
      "source": [
        "topics_path = \"/content/collection/Consultas_UTF8.txt\"\n",
        "topics = pt.io.read_topics(topics_path)\n",
        "topics.head()"
      ],
      "execution_count": 13,
      "outputs": [
        {
          "output_type": "execute_result",
          "data": {
            "text/html": [
              "<div>\n",
              "<style scoped>\n",
              "    .dataframe tbody tr th:only-of-type {\n",
              "        vertical-align: middle;\n",
              "    }\n",
              "\n",
              "    .dataframe tbody tr th {\n",
              "        vertical-align: top;\n",
              "    }\n",
              "\n",
              "    .dataframe thead th {\n",
              "        text-align: right;\n",
              "    }\n",
              "</style>\n",
              "<table border=\"1\" class=\"dataframe\">\n",
              "  <thead>\n",
              "    <tr style=\"text-align: right;\">\n",
              "      <th></th>\n",
              "      <th>qid</th>\n",
              "      <th>query</th>\n",
              "    </tr>\n",
              "  </thead>\n",
              "  <tbody>\n",
              "    <tr>\n",
              "      <th>0</th>\n",
              "      <td>251</td>\n",
              "      <td>medicina alternativa encontrar documentos sobr...</td>\n",
              "    </tr>\n",
              "    <tr>\n",
              "      <th>1</th>\n",
              "      <td>252</td>\n",
              "      <td>sistemas de reforma e pensões na europa encont...</td>\n",
              "    </tr>\n",
              "    <tr>\n",
              "      <th>2</th>\n",
              "      <td>253</td>\n",
              "      <td>países com pena de morte em quais países ainda...</td>\n",
              "    </tr>\n",
              "    <tr>\n",
              "      <th>3</th>\n",
              "      <td>254</td>\n",
              "      <td>danos provocados por terramotos encontrar docu...</td>\n",
              "    </tr>\n",
              "    <tr>\n",
              "      <th>4</th>\n",
              "      <td>255</td>\n",
              "      <td>viciados na internet o uso frequente da intern...</td>\n",
              "    </tr>\n",
              "  </tbody>\n",
              "</table>\n",
              "</div>"
            ],
            "text/plain": [
              "   qid                                              query\n",
              "0  251  medicina alternativa encontrar documentos sobr...\n",
              "1  252  sistemas de reforma e pensões na europa encont...\n",
              "2  253  países com pena de morte em quais países ainda...\n",
              "3  254  danos provocados por terramotos encontrar docu...\n",
              "4  255  viciados na internet o uso frequente da intern..."
            ]
          },
          "metadata": {},
          "execution_count": 13
        }
      ]
    },
    {
      "cell_type": "code",
      "metadata": {
        "colab": {
          "base_uri": "https://localhost:8080/"
        },
        "id": "zLR4_UTs5jPN",
        "outputId": "c0487330-e02a-4c77-a33f-7331ba26aefe"
      },
      "source": [
        "print(\"O número total de tópicos é :\", len(topics))"
      ],
      "execution_count": 14,
      "outputs": [
        {
          "output_type": "stream",
          "name": "stdout",
          "text": [
            "O número total de tópicos é : 50\n"
          ]
        }
      ]
    },
    {
      "cell_type": "markdown",
      "metadata": {
        "id": "THxXf_Rcf1K_"
      },
      "source": [
        "# Baseline"
      ]
    },
    {
      "cell_type": "markdown",
      "metadata": {
        "id": "LW0Rw2QuimeX"
      },
      "source": [
        "## Rankeando Documentos com Stemming "
      ]
    },
    {
      "cell_type": "code",
      "metadata": {
        "id": "LmpkfNtjwgGM",
        "colab": {
          "base_uri": "https://localhost:8080/"
        },
        "outputId": "c514015b-9ef6-47d7-a891-99ec78191319"
      },
      "source": [
        "#retr = pt.BatchRetrieve(index, controls = {\"wmodel\": \"TF_IDF\"}, properties={'tokeniser': 'UTFTokeniser', 'termpipelines': 'PortugueseSnowballStemmer'}) #19.57 \n",
        "#retr = pt.BatchRetrieve(index, controls = {\"wmodel\": \"DirichletLM\"}, properties={'tokeniser': 'UTFTokeniser', 'termpipelines': 'PortugueseSnowballStemmer'}) #29.90\n",
        "#retr = pt.BatchRetrieve(index, controls = {\"wmodel\": \"BB2\"}, properties={'tokeniser': 'UTFTokeniser', 'termpipelines': 'PortugueseSnowballStemmer'}) #40.57\n",
        "#retr = pt.BatchRetrieve(index, controls = {\"wmodel\": \"DFIC\"}, properties={'tokeniser': 'UTFTokeniser', 'termpipelines': 'PortugueseSnowballStemmer'}) #29.73\n",
        "#retr = pt.BatchRetrieve(index, controls = {\"wmodel\": \"DFRee\"}, properties={'tokeniser': 'UTFTokeniser', 'termpipelines': 'PortugueseSnowballStemmer'}) #42.03\n",
        "#retr = pt.BatchRetrieve(index, controls = {\"wmodel\": \"DFReeKLIM\"}, properties={'tokeniser': 'UTFTokeniser', 'termpipelines': 'PortugueseSnowballStemmer'}) #27.63\n",
        "#retr = pt.BatchRetrieve(index, controls = {\"wmodel\": \"Js_KLs\"}, properties={'tokeniser': 'UTFTokeniser', 'termpipelines': 'PortugueseSnowballStemmer'}) #40.69\n",
        "retr = pt.BatchRetrieve(index, controls = {\"wmodel\": \"LemurTF_IDF\", \"qe\" : \"on\"}, properties={'tokeniser': 'UTFTokeniser', 'termpipelines': 'PortugueseSnowballStemmer'}) #98.98\n",
        "#retr = pt.BatchRetrieve(index, controls = {\"wmodel\": \"LGD\"}, properties={'tokeniser': 'UTFTokeniser', 'termpipelines': 'PortugueseSnowballStemmer'}) #33.25\n",
        "\n",
        "base_res_stem = retr.transform(topics)"
      ],
      "execution_count": 15,
      "outputs": [
        {
          "output_type": "stream",
          "name": "stdout",
          "text": [
            "17:49:46.393 [main] WARN org.terrier.querying.QueryExpansion - qemodel control not set for QueryExpansion post process. Using default model Bo1\n"
          ]
        }
      ]
    },
    {
      "cell_type": "markdown",
      "metadata": {
        "id": "CLZsoRDlUZ8v"
      },
      "source": [
        "##Avaliação do Sistema"
      ]
    },
    {
      "cell_type": "code",
      "metadata": {
        "id": "PyirKtsLQSNI"
      },
      "source": [
        "qrels_path=(\"/content/qrels_FSP2021.txt?dl=0\")\n",
        "qrels = pt.io.read_qrels(qrels_path)"
      ],
      "execution_count": 103,
      "outputs": []
    },
    {
      "cell_type": "markdown",
      "metadata": {
        "id": "qSvnB3aPgA_t"
      },
      "source": [
        "### Avaliação da Baseline"
      ]
    },
    {
      "cell_type": "code",
      "metadata": {
        "colab": {
          "base_uri": "https://localhost:8080/"
        },
        "id": "wc0QEguXgAj8",
        "outputId": "df60c5a7-598f-4a8c-888e-283f9a6099b0"
      },
      "source": [
        "pt.Utils.evaluate(base_res_stem,qrels)"
      ],
      "execution_count": 104,
      "outputs": [
        {
          "output_type": "execute_result",
          "data": {
            "text/plain": [
              "{'map': 0.25888339189455617, 'ndcg': 0.4822207421524042}"
            ]
          },
          "metadata": {},
          "execution_count": 104
        }
      ]
    },
    {
      "cell_type": "markdown",
      "metadata": {
        "id": "1S5GLw6rPvUR"
      },
      "source": [
        "Testando diferentes modelos de ranqueamento, com o mesmo tipo de QE."
      ]
    },
    {
      "cell_type": "code",
      "metadata": {
        "id": "7jDbXARKAf1R"
      },
      "source": [
        "\n",
        "retr_DPH = pt.BatchRetrieve(index, controls = {\"wmodel\": \"DPH\", \"qe\" : \"on\"}, properties={'tokeniser': 'UTFTokeniser', 'termpipelines': 'PortugueseSnowballStemmer'}) #164\n",
        "\n",
        "retr_BM25 = pt.BatchRetrieve(index, controls = {\"wmodel\": \"BM25\", \"qe\" : \"on\"}, properties={'tokeniser': 'UTFTokeniser', 'termpipelines': 'PortugueseSnowballStemmer'}) #164\n",
        "\n",
        "retr_DFR_BM25 = pt.BatchRetrieve(index, controls = {\"wmodel\": \"DFR_BM25\", \"qe\" : \"on\"}, properties={'tokeniser': 'UTFTokeniser', 'termpipelines': 'PortugueseSnowballStemmer'}) #164\n",
        "\n",
        "retr_LemurTF_IDF = pt.BatchRetrieve(index, controls = {\"wmodel\": \"LemurTF_IDF\", \"qe\" : \"on\"}, properties={'tokeniser': 'UTFTokeniser', 'termpipelines': 'PortugueseSnowballStemmer'}) #164\n",
        "\n",
        "retr_DFReeKLIM = pt.BatchRetrieve(index, controls = {\"wmodel\": \"DFReeKLIM\", \"qe\" : \"on\"}, properties={'tokeniser': 'UTFTokeniser', 'termpipelines': 'PortugueseSnowballStemmer'}) #164\n"
      ],
      "execution_count": 18,
      "outputs": []
    },
    {
      "cell_type": "code",
      "metadata": {
        "id": "wmxPMgR5eGiw"
      },
      "source": [
        "models_br = [retr_DPH, retr_BM25, retr_DFR_BM25, retr_LemurTF_IDF, retr_DFReeKLIM]"
      ],
      "execution_count": 19,
      "outputs": []
    },
    {
      "cell_type": "markdown",
      "metadata": {
        "id": "gpl5PONIeVBe"
      },
      "source": [
        "O método `Experiment` realiza todos os experimentos de recuperação dado um array com diferentes `BatchRetrieve`. Ele também calcula a Precisão Média (MAP) de cada modelo."
      ]
    },
    {
      "cell_type": "code",
      "metadata": {
        "colab": {
          "base_uri": "https://localhost:8080/",
          "height": 295
        },
        "id": "xB4I07OJWNBm",
        "outputId": "ad4b702f-4737-4f7c-9565-d09b2b014be8"
      },
      "source": [
        "pt.Experiment(models_br, topics, qrels, [\"map\", \"ndcg\"])"
      ],
      "execution_count": 20,
      "outputs": [
        {
          "output_type": "stream",
          "name": "stdout",
          "text": [
            "17:49:59.874 [main] WARN org.terrier.querying.QueryExpansion - qemodel control not set for QueryExpansion post process. Using default model Bo1\n",
            "17:50:11.989 [main] WARN org.terrier.querying.QueryExpansion - qemodel control not set for QueryExpansion post process. Using default model Bo1\n",
            "17:50:24.498 [main] WARN org.terrier.querying.QueryExpansion - qemodel control not set for QueryExpansion post process. Using default model Bo1\n",
            "17:50:37.624 [main] WARN org.terrier.querying.QueryExpansion - qemodel control not set for QueryExpansion post process. Using default model Bo1\n",
            "17:50:48.192 [main] WARN org.terrier.querying.QueryExpansion - qemodel control not set for QueryExpansion post process. Using default model Bo1\n"
          ]
        },
        {
          "output_type": "execute_result",
          "data": {
            "text/html": [
              "<div>\n",
              "<style scoped>\n",
              "    .dataframe tbody tr th:only-of-type {\n",
              "        vertical-align: middle;\n",
              "    }\n",
              "\n",
              "    .dataframe tbody tr th {\n",
              "        vertical-align: top;\n",
              "    }\n",
              "\n",
              "    .dataframe thead th {\n",
              "        text-align: right;\n",
              "    }\n",
              "</style>\n",
              "<table border=\"1\" class=\"dataframe\">\n",
              "  <thead>\n",
              "    <tr style=\"text-align: right;\">\n",
              "      <th></th>\n",
              "      <th>name</th>\n",
              "      <th>map</th>\n",
              "      <th>ndcg</th>\n",
              "    </tr>\n",
              "  </thead>\n",
              "  <tbody>\n",
              "    <tr>\n",
              "      <th>0</th>\n",
              "      <td>BR(DPH)</td>\n",
              "      <td>0.291393</td>\n",
              "      <td>0.494308</td>\n",
              "    </tr>\n",
              "    <tr>\n",
              "      <th>1</th>\n",
              "      <td>BR(BM25)</td>\n",
              "      <td>0.102313</td>\n",
              "      <td>0.253039</td>\n",
              "    </tr>\n",
              "    <tr>\n",
              "      <th>2</th>\n",
              "      <td>BR(DFR_BM25)</td>\n",
              "      <td>0.103080</td>\n",
              "      <td>0.254106</td>\n",
              "    </tr>\n",
              "    <tr>\n",
              "      <th>3</th>\n",
              "      <td>BR(LemurTF_IDF)</td>\n",
              "      <td>0.258883</td>\n",
              "      <td>0.482221</td>\n",
              "    </tr>\n",
              "    <tr>\n",
              "      <th>4</th>\n",
              "      <td>BR(DFReeKLIM)</td>\n",
              "      <td>0.286805</td>\n",
              "      <td>0.481125</td>\n",
              "    </tr>\n",
              "  </tbody>\n",
              "</table>\n",
              "</div>"
            ],
            "text/plain": [
              "              name       map      ndcg\n",
              "0          BR(DPH)  0.291393  0.494308\n",
              "1         BR(BM25)  0.102313  0.253039\n",
              "2     BR(DFR_BM25)  0.103080  0.254106\n",
              "3  BR(LemurTF_IDF)  0.258883  0.482221\n",
              "4    BR(DFReeKLIM)  0.286805  0.481125"
            ]
          },
          "metadata": {},
          "execution_count": 20
        }
      ]
    },
    {
      "cell_type": "markdown",
      "metadata": {
        "id": "b-mXCcowbZhU"
      },
      "source": [
        "Escolhemos a função de ranking `DPH` para ser comparada a *baseline*, pois é a que teve um melhor desempenho na métrica de MAP."
      ]
    },
    {
      "cell_type": "code",
      "metadata": {
        "id": "ym5AeBzvSqPD"
      },
      "source": [
        "# outra baseline para comparação\n",
        "retr_DPH = pt.BatchRetrieve(index, controls = {\"wmodel\": \"DPH\", \"qe\" : \"on\"}, properties={'tokeniser': 'UTFTokeniser', 'termpipelines': 'PortugueseSnowballStemmer'}) #164\n"
      ],
      "execution_count": 88,
      "outputs": []
    },
    {
      "cell_type": "code",
      "metadata": {
        "colab": {
          "base_uri": "https://localhost:8080/"
        },
        "id": "H1AhlFynjRu6",
        "outputId": "366ba965-5014-42d4-a688-84598a3fa1bd"
      },
      "source": [
        "pt.Utils.evaluate(retr_DPH.transform(topics),qrels)"
      ],
      "execution_count": 89,
      "outputs": [
        {
          "output_type": "stream",
          "name": "stdout",
          "text": [
            "20:14:04.961 [main] WARN org.terrier.querying.QueryExpansion - qemodel control not set for QueryExpansion post process. Using default model Bo1\n"
          ]
        },
        {
          "output_type": "execute_result",
          "data": {
            "text/plain": [
              "{'map': 0.29139345818954315, 'ndcg': 0.4943076977869672}"
            ]
          },
          "metadata": {},
          "execution_count": 89
        }
      ]
    },
    {
      "cell_type": "markdown",
      "metadata": {
        "id": "DZ_zZnl3P5Rz"
      },
      "source": [
        "# Learning to Rank"
      ]
    },
    {
      "cell_type": "markdown",
      "metadata": {
        "id": "YmoqeZrMUAQ-"
      },
      "source": [
        "Como estaremos trabalhando com modelos de Aprendizado de Máquina, é importante fazer a separação dos tópicos em conjuntos de dados de **treino e teste**. Se treinássemos o modelo com todos dados teríamos uma visão excessivamente otimista visto que a avaliação ocorre em dados que já foram vistos pelo modelo. Por outro lado, fazendo essa separação estaremos tendo uma visão pessimista, em que o modelo não vai ter acesso aos dados de teste no seu treinamento. Isso tudo para quando o modelo for \"posto em produção\", aumente o potencial do modelo em generalizar o rankeamento de documentos ainda não vistos."
      ]
    },
    {
      "cell_type": "code",
      "metadata": {
        "id": "KDXjo_PkYs6c"
      },
      "source": [
        "from sklearn.model_selection import train_test_split\n",
        "\n",
        "train_topics, test_topics = train_test_split(topics, test_size=0.2, shuffle=True)"
      ],
      "execution_count": 85,
      "outputs": []
    },
    {
      "cell_type": "code",
      "metadata": {
        "colab": {
          "base_uri": "https://localhost:8080/"
        },
        "id": "E8FyhmQ4o1Nn",
        "outputId": "a762073e-2a8e-44a7-9342-81c370ed97dd"
      },
      "source": [
        "print(len(train_topics), len(test_topics))"
      ],
      "execution_count": 87,
      "outputs": [
        {
          "output_type": "stream",
          "name": "stdout",
          "text": [
            "40 10\n"
          ]
        }
      ]
    },
    {
      "cell_type": "markdown",
      "metadata": {
        "id": "lhSwltOyP-g4"
      },
      "source": [
        "### Regressor Random Forest da Biblioteca *Scikit-learn*\n"
      ]
    },
    {
      "cell_type": "markdown",
      "metadata": {
        "id": "qA1cDtIInG_k"
      },
      "source": [
        "Esse pipeline utiliza a função `FeaturesBatchRetrieve` em que fazemos o reranqueamento com outros qmodels, nesse caso utilizamos TF_IDF e o PL2, e que depois será utilizado no learning ranking com Random Forest.\n",
        "\n",
        "Na prática, esse pipeline possui 3 fases:\n",
        "1. Ranqueamento com o modelo DPH\n",
        "2. Re-ranqueamento utilizando as features (\"TF_IDF\" e \"PL2\")\n",
        "3. Aplicando RandomForests\n"
      ]
    },
    {
      "cell_type": "code",
      "metadata": {
        "id": "tFuHpR2rSA33"
      },
      "source": [
        "pipeline = pt.FeaturesBatchRetrieve(index,  features=[\"SAMPLE\", \"WMODEL:Tf\", \"WMODEL:PL2\"], controls = {\"wmodel\": \"DPH\", \"qe\" : \"on\"}, properties={'tokeniser': 'UTFTokeniser', 'termpipelines': 'PortugueseSnowballStemmer'})"
      ],
      "execution_count": 90,
      "outputs": []
    },
    {
      "cell_type": "markdown",
      "metadata": {
        "id": "viAdEthoSFRh"
      },
      "source": [
        "Aqui realizamos o experimento comparando as baselines (Lemur TF-IDF e DPH) com o learn-to-rank que utiliza um regressor Random Forest. Visto que o dataframe `qrels` possui todas as respostas de todos os tópicos, estamos configurando o parâmetro `filter_by_topics = True`, que removerá os tópicos do `qrels` que tem `qids` não aparecendo no dataframe de `topics`. Assim a avaliação será justa e aplicada apenas em cima dos tópicos dentro do dataframe de `test_topics`."
      ]
    },
    {
      "cell_type": "code",
      "metadata": {
        "id": "keoTYPBMvj0I"
      },
      "source": [
        "from sklearn.ensemble import RandomForestRegressor\n",
        "\n",
        "rf = RandomForestRegressor(n_estimators=400, random_state=42)\n",
        "rf_pipe = pipeline >> pt.ltr.apply_learned_model(rf)\n",
        "\n",
        "rf_pipe.fit(train_topics, qrels)\n",
        "\n",
        "valid_rf = pt.Experiment([retr_LemurTF_IDF, retr_DPH, rf_pipe], test_topics, qrels, [\"map\", \"iprec_at_recall\"], names=[\"LemurTF_IDF Baseline\", \"DPH Baseline\", \"Random Forest\"], filter_by_topics=True)"
      ],
      "execution_count": 92,
      "outputs": []
    },
    {
      "cell_type": "code",
      "metadata": {
        "colab": {
          "base_uri": "https://localhost:8080/",
          "height": 143
        },
        "id": "FfxujcKKZk_r",
        "outputId": "4311f8c9-d86a-447a-e8c4-84a090f0a247"
      },
      "source": [
        "valid_rf"
      ],
      "execution_count": 93,
      "outputs": [
        {
          "output_type": "execute_result",
          "data": {
            "text/html": [
              "<div>\n",
              "<style scoped>\n",
              "    .dataframe tbody tr th:only-of-type {\n",
              "        vertical-align: middle;\n",
              "    }\n",
              "\n",
              "    .dataframe tbody tr th {\n",
              "        vertical-align: top;\n",
              "    }\n",
              "\n",
              "    .dataframe thead th {\n",
              "        text-align: right;\n",
              "    }\n",
              "</style>\n",
              "<table border=\"1\" class=\"dataframe\">\n",
              "  <thead>\n",
              "    <tr style=\"text-align: right;\">\n",
              "      <th></th>\n",
              "      <th>name</th>\n",
              "      <th>map</th>\n",
              "      <th>IPrec@0.0</th>\n",
              "      <th>IPrec@0.1</th>\n",
              "      <th>IPrec@0.2</th>\n",
              "      <th>IPrec@0.3</th>\n",
              "      <th>IPrec@0.4</th>\n",
              "      <th>IPrec@0.5</th>\n",
              "      <th>IPrec@0.6</th>\n",
              "      <th>IPrec@0.7</th>\n",
              "      <th>IPrec@0.8</th>\n",
              "      <th>IPrec@0.9</th>\n",
              "      <th>IPrec@1.0</th>\n",
              "    </tr>\n",
              "  </thead>\n",
              "  <tbody>\n",
              "    <tr>\n",
              "      <th>0</th>\n",
              "      <td>LemurTF_IDF Baseline</td>\n",
              "      <td>0.387943</td>\n",
              "      <td>0.871212</td>\n",
              "      <td>0.827462</td>\n",
              "      <td>0.732725</td>\n",
              "      <td>0.571904</td>\n",
              "      <td>0.541766</td>\n",
              "      <td>0.363533</td>\n",
              "      <td>0.248442</td>\n",
              "      <td>0.199859</td>\n",
              "      <td>0.143772</td>\n",
              "      <td>0.074291</td>\n",
              "      <td>0.044535</td>\n",
              "    </tr>\n",
              "    <tr>\n",
              "      <th>1</th>\n",
              "      <td>DPH Baseline</td>\n",
              "      <td>0.454242</td>\n",
              "      <td>0.757143</td>\n",
              "      <td>0.732143</td>\n",
              "      <td>0.727597</td>\n",
              "      <td>0.641274</td>\n",
              "      <td>0.639001</td>\n",
              "      <td>0.520732</td>\n",
              "      <td>0.354223</td>\n",
              "      <td>0.307131</td>\n",
              "      <td>0.236378</td>\n",
              "      <td>0.144690</td>\n",
              "      <td>0.076406</td>\n",
              "    </tr>\n",
              "    <tr>\n",
              "      <th>2</th>\n",
              "      <td>Random Forest</td>\n",
              "      <td>0.227529</td>\n",
              "      <td>0.429326</td>\n",
              "      <td>0.404326</td>\n",
              "      <td>0.377811</td>\n",
              "      <td>0.319477</td>\n",
              "      <td>0.297867</td>\n",
              "      <td>0.253181</td>\n",
              "      <td>0.188412</td>\n",
              "      <td>0.154482</td>\n",
              "      <td>0.118704</td>\n",
              "      <td>0.063105</td>\n",
              "      <td>0.028565</td>\n",
              "    </tr>\n",
              "  </tbody>\n",
              "</table>\n",
              "</div>"
            ],
            "text/plain": [
              "                   name       map  IPrec@0.0  ...  IPrec@0.8  IPrec@0.9  IPrec@1.0\n",
              "0  LemurTF_IDF Baseline  0.387943   0.871212  ...   0.143772   0.074291   0.044535\n",
              "1          DPH Baseline  0.454242   0.757143  ...   0.236378   0.144690   0.076406\n",
              "2         Random Forest  0.227529   0.429326  ...   0.118704   0.063105   0.028565\n",
              "\n",
              "[3 rows x 13 columns]"
            ]
          },
          "metadata": {},
          "execution_count": 93
        }
      ]
    },
    {
      "cell_type": "markdown",
      "metadata": {
        "id": "xfPvgXPLoumr"
      },
      "source": [
        "**Observação:** esse MAP é feito apenas em cima de **20%** do tamanho total de tópicos."
      ]
    },
    {
      "cell_type": "markdown",
      "metadata": {
        "id": "VTK-Kpi9MOBt"
      },
      "source": [
        "## Plotagem dos Gráficos: Curvas de Revocação e Precisão"
      ]
    },
    {
      "cell_type": "markdown",
      "metadata": {
        "id": "gJpnezlBRgKr"
      },
      "source": [
        "Remove as primeiras duas colunas do Dataframe da avaliação."
      ]
    },
    {
      "cell_type": "code",
      "metadata": {
        "id": "hfvdv7NEOg0I"
      },
      "source": [
        "valid_rf.drop(columns=valid_rf.columns[0], axis=1, inplace=True)\n",
        "valid_rf.drop(columns=valid_rf.columns[0], axis=1, inplace=True)"
      ],
      "execution_count": 94,
      "outputs": []
    },
    {
      "cell_type": "markdown",
      "metadata": {
        "id": "vD59CVgmRjSA"
      },
      "source": [
        "Transforma o dataframe em lista."
      ]
    },
    {
      "cell_type": "code",
      "metadata": {
        "id": "amyznnGJIPxa"
      },
      "source": [
        "precisao_inter = valid_rf.values.tolist()"
      ],
      "execution_count": 95,
      "outputs": []
    },
    {
      "cell_type": "code",
      "metadata": {
        "colab": {
          "base_uri": "https://localhost:8080/"
        },
        "id": "TxjSd32PHOps",
        "outputId": "9e9e0309-c708-47f1-f427-9b38368d20dd"
      },
      "source": [
        "precisao_inter"
      ],
      "execution_count": 96,
      "outputs": [
        {
          "output_type": "execute_result",
          "data": {
            "text/plain": [
              "[[0.8712121212121211,\n",
              "  0.8274621212121211,\n",
              "  0.732725279106858,\n",
              "  0.5719041077969649,\n",
              "  0.5417661633388944,\n",
              "  0.3635329378628269,\n",
              "  0.24844206240210243,\n",
              "  0.19985866288369616,\n",
              "  0.1437716521631776,\n",
              "  0.07429129936896649,\n",
              "  0.04453487796724314],\n",
              " [0.7571428571428571,\n",
              "  0.7321428571428571,\n",
              "  0.7275974025974026,\n",
              "  0.6412741046831957,\n",
              "  0.6390013774104684,\n",
              "  0.5207319368548876,\n",
              "  0.35422326034621116,\n",
              "  0.30713083814692127,\n",
              "  0.23637752651902694,\n",
              "  0.14468976961441818,\n",
              "  0.07640590370461273],\n",
              " [0.42932567432567426,\n",
              "  0.4043256743256743,\n",
              "  0.3778105228105228,\n",
              "  0.31947730332369967,\n",
              "  0.29786739620295666,\n",
              "  0.2531810925316906,\n",
              "  0.18841241131903205,\n",
              "  0.15448189483456992,\n",
              "  0.11870352252701606,\n",
              "  0.06310489453012033,\n",
              "  0.028564519848073223]]"
            ]
          },
          "metadata": {},
          "execution_count": 96
        }
      ]
    },
    {
      "cell_type": "markdown",
      "metadata": {
        "id": "DOw2bqpkRqMW"
      },
      "source": [
        "Cria lista com os valores de revocação."
      ]
    },
    {
      "cell_type": "code",
      "metadata": {
        "id": "rYAqNowfOMUF"
      },
      "source": [
        "recall = [0.0, 0.1, 0.2, 0.3, 0.4, 0.5, 0.6, 0.7, 0.8, 0.9, 1]"
      ],
      "execution_count": 97,
      "outputs": []
    },
    {
      "cell_type": "markdown",
      "metadata": {
        "id": "J8gzb7DkRwKG"
      },
      "source": [
        "Realiza a plotagem do gráfico com as curvas por abordagem."
      ]
    },
    {
      "cell_type": "code",
      "metadata": {
        "colab": {
          "base_uri": "https://localhost:8080/",
          "height": 444
        },
        "id": "SBYrWiGIPBwc",
        "outputId": "30d6e562-e037-45a3-8689-326344440740"
      },
      "source": [
        "import matplotlib.pyplot as plt\n",
        "from matplotlib.pyplot import figure\n",
        "figure(figsize=(10, 6), dpi=80)\n",
        "    \n",
        "plt.plot(recall, precisao_inter[1], color='green', marker='o', label = 'DPH')\n",
        "plt.legend()\n",
        "plt.plot(recall, precisao_inter[0], color='blue', marker='o', label = 'Lemur TF-IDF Baseline')\n",
        "plt.legend()\n",
        "plt.plot(recall, precisao_inter[2], color='red', marker='o', label = 'Random Forest')\n",
        "plt.legend()\n",
        "plt.title('Comparação da Baseline vs Learn-to-rank' )\n",
        "plt.xlabel('Revocação')\n",
        "plt.ylabel('Precisão')\n",
        "plt.grid(True)\n",
        "plt.show()"
      ],
      "execution_count": 100,
      "outputs": [
        {
          "output_type": "display_data",
          "data": {
            "image/png": "[encoded data removed]",
            "text/plain": [
              "<Figure size 800x480 with 1 Axes>"
            ]
          },
          "metadata": {
            "needs_background": "light"
          }
        }
      ]
    }
  ]
}